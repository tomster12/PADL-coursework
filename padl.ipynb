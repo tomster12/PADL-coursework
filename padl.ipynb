{
 "cells": [
  {
   "cell_type": "code",
   "execution_count": 1,
   "metadata": {},
   "outputs": [],
   "source": [
    "import csv\n",
    "import numpy as np\n",
    "import matplotlib.pyplot as plt\n",
    "from sklearn.decomposition import PCA\n",
    "from sklearn.linear_model import LinearRegression, Ridge\n",
    "from sklearn.preprocessing import PolynomialFeatures\n",
    "from sklearn.model_selection import KFold\n",
    "from sklearn.metrics import r2_score\n",
    "import re\n",
    "from gensim.models import Word2Vec\n",
    "import torch\n",
    "import torch.nn as nn\n",
    "import torch.optim as optim\n",
    "import torchvision.io as torchio\n"
   ]
  },
  {
   "cell_type": "markdown",
   "metadata": {},
   "source": [
    "# Q1. PCA"
   ]
  },
  {
   "cell_type": "code",
   "execution_count": 2,
   "metadata": {},
   "outputs": [
    {
     "name": "stdout",
     "output_type": "stream",
     "text": [
      "--- Data ---\n",
      "['x1', 'x2', 'x3', 'x4', 'x5']\n",
      "[[ 0.91890765  3.18388059 -0.08010414  9.3159354   5.2941181 ]\n",
      " [-2.46848262  1.69499138 -1.762808    7.91247192  2.4641442 ]\n",
      " [-0.86661073 -0.02815577  4.8980317  11.77602453 -4.4810839 ]\n",
      " [ 0.15403261  2.63287823 -2.36163801  3.26223239  4.0097756 ]\n",
      " [-0.62210432  5.51591972 -0.39977591 12.13958265  6.4871446 ]]\n",
      "\n",
      "--- Variance ---\n",
      "114.70494912140819\n",
      "[ 2.048654    8.03910539 17.88568982 32.31447983 54.41702008]\n"
     ]
    }
   ],
   "source": [
    "# -- Q1. PCA --\n",
    "\n",
    "# Load csv data to an np.array\n",
    "with open(\"PADL-Q1.csv\", \"r\") as f:\n",
    "    reader = csv.reader(f)\n",
    "    data_headers = next(reader)\n",
    "    data = np.array(list(reader)).astype(float)\n",
    "\n",
    "print(\"--- Data ---\")\n",
    "print(data_headers)\n",
    "print(data[:5])\n",
    "\n",
    "print(\"\\n--- Variance ---\")\n",
    "data_var = np.var(data, axis=0)\n",
    "print(sum(data_var))\n",
    "print(data_var)\n"
   ]
  },
  {
   "cell_type": "markdown",
   "metadata": {},
   "source": [
    "## a. Apply PCA with n=5"
   ]
  },
  {
   "cell_type": "code",
   "execution_count": 3,
   "metadata": {},
   "outputs": [
    {
     "name": "stdout",
     "output_type": "stream",
     "text": [
      "--- data_pca5 Variance ---\n",
      "114.70494912140809\n",
      "[61.7643465  34.48928083 11.77245573  5.28311027  1.39575579]\n",
      "[0.53846279 0.30067823 0.1026325  0.04605826 0.01216823]\n",
      "\n",
      "--- Variance Proportions ---\n",
      "First 1 dims variance proportion: 0.5384627862600507\n",
      "First 2 dims variance proportion: 0.8391410141574704\n",
      "First 3 dims variance proportion: 0.9417735144837427\n",
      "First 4 dims variance proportion: 0.9878317735978975\n",
      "First 5 dims variance proportion: 1.0\n"
     ]
    },
    {
     "data": {
      "image/png": "[encoded data removed]",
      "text/plain": [
       "<Figure size 300x200 with 1 Axes>"
      ]
     },
     "metadata": {},
     "output_type": "display_data"
    }
   ],
   "source": [
    "# Apply PCA with 5 components\n",
    "pca5 = PCA(n_components=5)\n",
    "data_pca5 = pca5.fit_transform(data)\n",
    "\n",
    "# Calculate variance of PCA components\n",
    "print(\"--- data_pca5 Variance ---\")\n",
    "data_pca5_var = np.var(data_pca5, axis=0)\n",
    "data_pca5_var_sum = sum(data_pca5_var)\n",
    "print(data_pca5_var_sum)\n",
    "print(data_pca5_var)\n",
    "print(data_pca5_var / data_pca5_var_sum)\n",
    "\n",
    "# Calculate proportion of variances to sum of variances\n",
    "print(\"\\n--- Variance Proportions ---\")\n",
    "for i in range(1, 6):\n",
    "    print(f\"First {i} dims variance proportion: {sum(data_pca5_var[:i]) / data_pca5_var_sum}\")\n",
    "\n",
    "# Plot the variance proportions\n",
    "plt.figure(figsize=(3, 2))\n",
    "plt.plot(range(1, 6), data_pca5_var / data_pca5_var_sum)\n",
    "plt.xlabel(\"Component\")\n",
    "plt.xticks(range(1, 6))\n",
    "plt.show()\n"
   ]
  },
  {
   "cell_type": "markdown",
   "metadata": {},
   "source": [
    "### Reasoning\n",
    "\n",
    "Summing the proportion of variance held by the first N dimensions:  \n",
    "\n",
    "- First 2 PCA dimensions hold 83.91% of the variance.  \n",
    "- First 3 PCA dimensions hold 94.18% of the variance.  \n",
    "- First 4 PCA dimensions hold 98.78% of the variance.  \n",
    "\n",
    "This shows dimensions > 3 hold a relatively small percentage of the datasets information.  \n",
    "Plotting the proportions also shows an inflectorchion point at 3 components.  \n",
    "\n",
    "Therefore, I believe $D_{min}=3$.\n"
   ]
  },
  {
   "cell_type": "markdown",
   "metadata": {},
   "source": [
    "## b. Repeat PCA with n=3"
   ]
  },
  {
   "cell_type": "code",
   "execution_count": 4,
   "metadata": {},
   "outputs": [
    {
     "name": "stdout",
     "output_type": "stream",
     "text": [
      "--- data_pca3 Variance ---\n",
      "108.02608306274739\n",
      "[61.7643465  34.48928083 11.77245573]\n",
      "[0.57175401 0.31926809 0.1089779 ]\n",
      "\n",
      "--- Variance Proportions ---\n",
      "First 1 dim variances: 0.5717540130178995\n",
      "First 2 dim variances: 0.8910220995304451\n",
      "First 3 dim variances: 1.0\n",
      "\n",
      "--- PCA Components ---\n",
      "[[-0.09281879  0.02527186 -0.34876981  0.14508263 -0.92089992]\n",
      " [ 0.00562362 -0.29870463 -0.11422131 -0.94062257 -0.11369515]\n",
      " [ 0.11266752 -0.13315622  0.91420302 -0.02393429 -0.36501429]]\n",
      "\n",
      "--- PCA Latex Equations ---\n",
      "$\\hat{X}_1 = -0.093(x_{0}-0.856) + 0.025(x_{1}-2.238) - 0.349(x_{2}-3.100) + 0.145(x_{3}-3.957) - 0.921(x_{4}-4.884)$\n",
      "$\\hat{X}_2 =  0.006(x_{0}-0.856) - 0.299(x_{1}-2.238) - 0.114(x_{2}-3.100) - 0.941(x_{3}-3.957) - 0.114(x_{4}-4.884)$\n",
      "$\\hat{X}_3 =  0.113(x_{0}-0.856) - 0.133(x_{1}-2.238) + 0.914(x_{2}-3.100) - 0.024(x_{3}-3.957) - 0.365(x_{4}-4.884)$\n"
     ]
    }
   ],
   "source": [
    "# Apply PCA with 3 components\n",
    "pca3 = PCA(n_components=3)\n",
    "data_pca3 = pca3.fit_transform(data)\n",
    "\n",
    "# Calculate variance of PCA components\n",
    "print(\"--- data_pca3 Variance ---\")\n",
    "data_pca3_var = np.var(data_pca3, axis=0)\n",
    "data_pca3_var_sum = sum(data_pca3_var)\n",
    "print(data_pca3_var_sum)\n",
    "print(data_pca3_var)\n",
    "print(data_pca3_var / data_pca3_var_sum)\n",
    "\n",
    "# Calculate proportion of variances to sum of variances\n",
    "print(\"\\n--- Variance Proportions ---\")\n",
    "for i in range(1, 4):\n",
    "    print(f\"First {i} dim variances: {sum(data_pca3_var[:i]) / data_pca3_var_sum}\")\n",
    "\n",
    "print(\"\\n--- PCA Components ---\")\n",
    "print(pca3.components_)\n",
    "\n",
    "# Dirty code to generate latex equations for below markdown\n",
    "print(\"\\n--- PCA Latex Equations ---\")\n",
    "data_mean = np.mean(data, axis=0)\n",
    "for i in range(3):\n",
    "    output = f\"\\hat{{X}}_{i + 1} = \"\n",
    "    for j in range(5):\n",
    "        if pca3.components_[i][j] > 0:\n",
    "            if j > 0: output += \" + \"\n",
    "            else: output += \" \"\n",
    "        elif pca3.components_[i][j] < 0:\n",
    "            if j > 0: output += \" - \"\n",
    "            else: output += \"-\"\n",
    "        output += f\"{abs(pca3.components_[i][j]):.3f}(x_{{{j}}}-{data_mean[j]:.3f})\"\n",
    "    print(f\"${output}$\")\n"
   ]
  },
  {
   "cell_type": "markdown",
   "metadata": {},
   "source": [
    "### Equations\n",
    "\n",
    "First 3 components in decreasing order of variance.  \n",
    "SKLearn calculates the PCA component matrices based on a de-meaned X.  \n",
    "\n",
    "**Component 1**  \n",
    "Var=61.764  \n",
    "$\\hat{X}_1 = -0.093(x_{0}-0.856) + 0.025(x_{1}-2.238) - 0.349(x_{2}-3.100) + 0.145(x_{3}-3.957) - 0.921(x_{4}-4.884)$  \n",
    "\n",
    "**Component 2**  \n",
    "Var=34.489  \n",
    "$\\hat{X}_2 =  0.006(x_{0}-0.856) - 0.299(x_{1}-2.238) - 0.114(x_{2}-3.100) - 0.941(x_{3}-3.957) - 0.114(x_{4}-4.884)$  \n",
    "\n",
    "**Component 3**  \n",
    "Var=11.772  \n",
    "$\\hat{X}_3 =  0.113(x_{0}-0.856) - 0.133(x_{1}-2.238) + 0.914(x_{2}-3.100) - 0.024(x_{3}-3.957) - 0.365(x_{4}-4.884)$  \n"
   ]
  },
  {
   "cell_type": "markdown",
   "metadata": {},
   "source": [
    "# Q2. Regression"
   ]
  },
  {
   "cell_type": "code",
   "execution_count": 5,
   "metadata": {},
   "outputs": [
    {
     "name": "stdout",
     "output_type": "stream",
     "text": [
      "(80, 5)\n"
     ]
    },
    {
     "data": {
      "image/png": "[encoded data removed]",
      "text/plain": [
       "<Figure size 300x300 with 4 Axes>"
      ]
     },
     "metadata": {},
     "output_type": "display_data"
    }
   ],
   "source": [
    "# -- Q2. Regression --\n",
    "\n",
    "# Suppress ill-conditioned warning\n",
    "import warnings\n",
    "warnings.filterwarnings(\"ignore\")\n",
    "\n",
    "# Load csv data to an np.array\n",
    "with open(\"PADL-Q2-train.csv\", \"r\") as f:\n",
    "    reader = csv.reader(f)\n",
    "    data = np.array(list(reader)[1:]).astype(float)\n",
    "    all_X = data[:, :-1]\n",
    "    all_y = data[:, -1]\n",
    "\n",
    "# Plot each variable against y in 2x2 grid\n",
    "print(data.shape)\n",
    "plt.figure(figsize=(3, 3))\n",
    "for i in range(4):\n",
    "    plt.subplot(2, 2, i + 1)\n",
    "    plt.scatter(all_X[:, i], all_y, s=1.5)\n",
    "    plt.xlabel(f\"x{i + 1}\")\n",
    "    plt.ylabel(\"y\")\n",
    "    plt.xticks([])\n",
    "    plt.yticks([])\n",
    "plt.tight_layout()\n"
   ]
  },
  {
   "cell_type": "code",
   "execution_count": 6,
   "metadata": {},
   "outputs": [],
   "source": [
    "# Represents all possible different regression setups\n",
    "# This is so I can programmatically try all combinations\n",
    "class Model:\n",
    "    def __init__(self, poly_degree, to_normalize, model):\n",
    "        self.poly_degree = poly_degree\n",
    "        self.to_normalize = to_normalize\n",
    "        self.model = model\n",
    "\n",
    "        if poly_degree > 1:\n",
    "            self.poly = PolynomialFeatures(degree=poly_degree)\n",
    "        \n",
    "        # Calculate name for the printing the model\n",
    "        self.name = \"Model(\"\n",
    "        self.name += f\"degree={self.poly_degree}\"\n",
    "        self.name += f\", normalize={self.to_normalize}\"\n",
    "        self.name += f\", model={self.model.__class__.__name__}\"\n",
    "        if self.model.__class__.__name__ == \"Ridge\":\n",
    "            self.name += f\", alpha={self.model.alpha}\"\n",
    "        self.name += \")\"\n",
    "    \n",
    "    def fit(self, X, y):\n",
    "        # Apply polynomial features if needed\n",
    "        if self.poly_degree > 1:\n",
    "            X = self.poly.fit_transform(X)\n",
    "    \n",
    "        # Normalize data to have mean 0 and std 1 if needed\n",
    "        if self.to_normalize:\n",
    "            mean = np.mean(X, axis=0)\n",
    "            std = np.std(X, axis=0)\n",
    "            std[std == 0] = 1\n",
    "            X = (X - mean) / std\n",
    "        \n",
    "        self.model.fit(X, y)\n",
    "    \n",
    "    def predict(self, X):\n",
    "        # Apply polynomial features if needed\n",
    "        if self.poly_degree > 1:\n",
    "            X = self.poly.transform(X)\n",
    "        \n",
    "        # Normalize data to have mean 0 and std 1 if needed\n",
    "        if self.to_normalize:\n",
    "            mean = np.mean(X, axis=0)\n",
    "            std = np.std(X, axis=0)\n",
    "            std[std == 0] = 1\n",
    "            X = (X - mean) / std\n",
    "\n",
    "        return self.model.predict(X)\n",
    "\n",
    "# Represents multiple models combined together\n",
    "class PiecewiseModel:\n",
    "    def __init__(self, boundary_masker, models):\n",
    "        self.boundary_masker = boundary_masker\n",
    "        self.models = models\n",
    "        self.name = \"PiecewiseModel([\"\n",
    "        self.name += \",\".join([model.name for model in self.models])\n",
    "        self.name += \"])\"\n",
    "\n",
    "    def fit(self, X, y):\n",
    "        # Fit each model with the corresponding masked data\n",
    "        for i, model in enumerate(self.models):\n",
    "            mask = self.boundary_masker(X, i)\n",
    "            model.fit(X[mask], y[mask])\n",
    "\n",
    "    def predict(self, X):\n",
    "        # Predict using each model with their corresponding masked data\n",
    "        y = np.zeros(X.shape[0])\n",
    "        for i, model in enumerate(self.models):\n",
    "            mask = self.boundary_masker(X, i)\n",
    "            y[mask] = model.predict(X[mask])\n",
    "        return y\n"
   ]
  },
  {
   "cell_type": "code",
   "execution_count": 7,
   "metadata": {},
   "outputs": [
    {
     "data": {
      "image/png": "[encoded data removed]",
      "text/plain": [
       "<Figure size 300x300 with 1 Axes>"
      ]
     },
     "metadata": {},
     "output_type": "display_data"
    }
   ],
   "source": [
    "# Sanity check piecewise works\n",
    "def boundary_masker(X, i):\n",
    "    if i == 0:\n",
    "        return X[:, 0] < 2\n",
    "    else:\n",
    "        return X[:, 0] >= 2\n",
    "\n",
    "piecewise_x = np.array([[0], [1], [2], [3], [4]])\n",
    "piecewise_y = np.array([0, 0.1, 0.2, 0.6, 1])\n",
    "\n",
    "piecewise = PiecewiseModel(boundary_masker, [Model(1, False, LinearRegression()), Model(1, False, LinearRegression())])\n",
    "piecewise.fit(piecewise_x, piecewise_y)\n",
    "\n",
    "plt.figure(figsize=(3, 3))\n",
    "plt.scatter(piecewise_x, piecewise_y)\n",
    "plt.plot(piecewise_x, piecewise.predict(piecewise_x))\n",
    "plt.show()\n"
   ]
  },
  {
   "cell_type": "code",
   "execution_count": 8,
   "metadata": {},
   "outputs": [
    {
     "data": {
      "image/png": "[encoded data removed]",
      "text/plain": [
       "<Figure size 600x300 with 1 Axes>"
      ]
     },
     "metadata": {},
     "output_type": "display_data"
    },
    {
     "name": "stdout",
     "output_type": "stream",
     "text": [
      "--- Results ---\n",
      "Best model: Model(degree=4, normalize=True, model=Ridge, alpha=0.1)\n",
      "Best model, mean R2 KFold=5: 0.33428997746725964\n",
      "Best model, R2 over all data: 0.6380187792688217\n"
     ]
    }
   ],
   "source": [
    "def boundary_masker(X, i):\n",
    "    # Piecewise based on column 4 (w)\n",
    "    if i == 0:\n",
    "        return X[:, 3] < 0.05\n",
    "    else:\n",
    "        return X[:, 3] >= 0.05\n",
    "\n",
    "# Setup all the models to evaluate\n",
    "models = []\n",
    "for poly_degree in range(1, 7):\n",
    "    for to_normalize in [False, True]:\n",
    "        for to_piecewise in [False, True]:\n",
    "\n",
    "            # Piecewise 2 linear regressions\n",
    "            if to_piecewise:\n",
    "                models.append(PiecewiseModel(boundary_masker, [\n",
    "                    Model(poly_degree, to_normalize, LinearRegression()),\n",
    "                    Model(poly_degree, to_normalize, LinearRegression())\n",
    "                ]))\n",
    "\n",
    "            # Single linear regression\n",
    "            else:\n",
    "                models.append(Model(poly_degree, to_normalize, LinearRegression()))\n",
    "\n",
    "            for alpha in [0.0, 0.1, 1.0, 10.0]:\n",
    "                # Piecewise 2 ridge regressions\n",
    "                if to_piecewise:\n",
    "                    models.append(PiecewiseModel(boundary_masker, [\n",
    "                        Model(poly_degree, to_normalize, Ridge(alpha=alpha)),\n",
    "                        Model(poly_degree, to_normalize, Ridge(alpha=alpha))\n",
    "                    ]))\n",
    "\n",
    "                # Single ridge regression\n",
    "                else:\n",
    "                    models.append(Model(poly_degree, to_normalize, Ridge(alpha=alpha)))\n",
    "\n",
    "# Calculate mean R2 score of each model across 5 KFold splits\n",
    "np.random.seed(1)\n",
    "kf = KFold(n_splits=5, shuffle=True)\n",
    "\n",
    "models_r2_kfmean = []\n",
    "models_r2_all = []\n",
    "for model in models:\n",
    "    r2s = []\n",
    "    for train_idx, test_idx in kf.split(all_X):\n",
    "        model.fit(all_X[train_idx], all_y[train_idx])\n",
    "        pred_test_y = model.predict(all_X[test_idx])\n",
    "        r2s.append(r2_score(all_y[test_idx], pred_test_y))\n",
    "    models_r2_kfmean.append(np.mean(r2s))\n",
    "\n",
    "    model.fit(all_X, all_y)\n",
    "    pred_all_y = model.predict(all_X)\n",
    "    models_r2_all.append(r2_score(all_y, pred_all_y))\n",
    "\n",
    "# Plot mean R2 / all data R2 to see overall performance\n",
    "plt.figure(figsize=(6, 3))\n",
    "plt.bar(range(len(models_r2_kfmean)), models_r2_kfmean)\n",
    "plt.bar(range(len(models_r2_all)), models_r2_all, alpha=0.2, color=\"red\")\n",
    "plt.xticks([])\n",
    "plt.ylim(-1, 1)\n",
    "plt.show()\n",
    "\n",
    "print(\"--- Results ---\")\n",
    "best_idx = np.argmax(models_r2_kfmean)\n",
    "best_model = models[best_idx]\n",
    "best_r2_mean = models_r2_kfmean[best_idx]\n",
    "best_r2_all = models_r2_all[best_idx]\n",
    "print(f\"Best model: {best_model.name}\")\n",
    "print(f\"Best model, mean R2 KFold=5: {best_r2_mean}\")\n",
    "print(f\"Best model, R2 over all data: {best_r2_all}\")\n",
    "\n",
    "# Train best model against full data again\n",
    "best_model.fit(all_X, all_y)\n"
   ]
  },
  {
   "cell_type": "markdown",
   "metadata": {},
   "source": [
    "### Results Reasoning\n",
    "\n",
    "**Overview**\n",
    "\n",
    "I produce a set of models varying the following:  \n",
    "\n",
    "- Data polynomial basis **(1 - 6)**\n",
    "- Data normalization **(yes / no)**\n",
    "- Whether to use piecewise regression **(yes / no)**  \n",
    "- Regression model **(linear / ridge)**\n",
    "  - For ridge regression, alpha value **(0.1, 1, 10)**  \n",
    "\n",
    "**Piecewise**\n",
    "\n",
    "For piecewise regression I use 2 of the same model, split on some boundary.  \n",
    "From inspection of the data, column `w` is binary between 2 values.  \n",
    "Due to complexity constraints I only tested a piecewise regression with 1 boundary on `w` in these 2 classes.  \n",
    "\n",
    "**Overfitting**\n",
    "\n",
    "For training, I need to consider overfitting due to only having 80 values, as I want a generalised model.  \n",
    "If my number of parameters > number of data points the regressor might \"remember\" the values.  \n",
    "To prevent this, I use  k-fold data splitting:  \n",
    "\n",
    "- Split data into $k$ groups\n",
    "- Leave 1 group out and fit model on the rest\n",
    "- Use the 1 group for prediction and R2 score\n",
    "\n",
    "I can then average the R2 score over the folds and use that as the main metric.  \n",
    "\n",
    "**Random Results**\n",
    "\n",
    "An issue here arises due to the result being different every time its ran if k-fold is set to shuffle.  \n",
    "Evidently the results are highly dependant on how the random groups are assigned.  \n",
    "\n",
    "Generally however, it seems a **single (non-piecewise) ridge regression** works the best.  \n",
    "The degree of polynomial basis, whether to normalize, and the alpha, changes per run."
   ]
  },
  {
   "cell_type": "code",
   "execution_count": 9,
   "metadata": {},
   "outputs": [
    {
     "name": "stdout",
     "output_type": "stream",
     "text": [
      "Test R2: 0.6380187792688217\n"
     ]
    }
   ],
   "source": [
    "# Predict best model against PADL-Q2-unseen.csv\n",
    "with open(\"PADL-Q2-unseen.csv\", \"r\") as f:\n",
    "    reader = csv.reader(f)\n",
    "    data = np.array(list(reader)[1:]).astype(float)\n",
    "test_X = data[:, :-1]\n",
    "test_y = data[:, -1]\n",
    "pred_y = best_model.predict(test_X)\n",
    "r2 = r2_score(test_y, pred_y)\n",
    "print(f\"Test R2: {r2}\")\n"
   ]
  },
  {
   "cell_type": "markdown",
   "metadata": {},
   "source": [
    "# Q3. Embeddings"
   ]
  },
  {
   "cell_type": "code",
   "execution_count": 10,
   "metadata": {},
   "outputs": [],
   "source": [
    "# -- Q3. Embeddings --\n",
    "\n",
    "# Read pg48320.txt\n",
    "with open(\"pg48320.txt\", \"r\", encoding=\"utf-8\") as f:\n",
    "    text = f.read()\n"
   ]
  },
  {
   "cell_type": "markdown",
   "metadata": {},
   "source": [
    "## a. Extract Words"
   ]
  },
  {
   "cell_type": "markdown",
   "metadata": {},
   "source": [
    "**1. Clean the text.**  \n",
    "\n",
    "- Replace all punctuation, apart from hyphens and newlines, with spaces.  \n",
    "- Convert the text to lowercase.  \n",
    "\n",
    "**2. Extract Words.**  \n",
    "\n",
    "- Find words by splitting on all spaces.\n",
    "\n",
    "**3. Extract Triplets.**\n",
    "\n",
    "- Loop over words, compare to \"the\", and adding the previous / current / next to a list."
   ]
  },
  {
   "cell_type": "code",
   "execution_count": 11,
   "metadata": {},
   "outputs": [
    {
     "name": "stdout",
     "output_type": "stream",
     "text": [
      "Found 595374 characters, 139178 words, 4360 triplets.\n"
     ]
    }
   ],
   "source": [
    "# Preprocess text\n",
    "clean_text = re.sub(r\"[^a-zA-Z \\-]\", \" \", text).lower()\n",
    "\n",
    "# Split text into non-empty words\n",
    "words = clean_text.split(\" \")\n",
    "\n",
    "# Extract triplets where middle word is \"the\"\n",
    "triplets = set()\n",
    "for i in range(1, len(words) - 1):\n",
    "    if words[i] == \"the\":\n",
    "        triplets.add((words[i - 1], words[i], words[i + 1]))\n",
    "\n",
    "print(f\"Found {len(text)} characters, {len(words)} words, {len(triplets)} triplets.\")\n"
   ]
  },
  {
   "cell_type": "markdown",
   "metadata": {},
   "source": [
    "## b. Find Matching Triplets"
   ]
  },
  {
   "cell_type": "markdown",
   "metadata": {},
   "source": [
    "We just need to loop over each triplet for each keyword and perform the suitability check.  \n",
    "\n",
    "- Check the relevant word has 3+ characters, and then check the suffix matches.  \n",
    "\n",
    "**Note:** This would be improved by checking the word is different from the keyword.  "
   ]
  },
  {
   "cell_type": "code",
   "execution_count": 12,
   "metadata": {},
   "outputs": [
    {
     "name": "stdout",
     "output_type": "stream",
     "text": [
      "Keyword gold has 21 matching triplets\n",
      "[('do', 'the', 'old'), ('of', 'the', 'old'), ('of', 'the', 'gold'), ('into', 'the', 'manifold'), ('screamed', 'the', 'old'), ('crossed', 'the', 'threshold'), ('by', 'the', 'old'), ('with', 'the', 'gold'), ('said', 'the', 'old'), ('as', 'the', 'old'), ('from', 'the', 'old'), ('and', 'the', 'two-hundred-year-old'), ('over', 'the', 'threshold'), ('rack', 'the', 'old'), ('remember', 'the', 'old'), ('in', 'the', 'old'), ('in', 'the', 'household'), ('one', 'the', 'old'), ('', 'the', 'old'), ('in', 'the', 'cold'), ('to', 'the', 'old')]\n",
      "\n",
      "Keyword diamond has 11 matching triplets\n",
      "[('in', 'the', 'second'), ('armitage', 'the', 'second'), ('if', 'the', 'second'), ('at', 'the', 'second'), ('observe', 'the', 'second'), ('snap', 'the', 'bond'), ('upon', 'the', 'second'), ('', 'the', 'second'), ('to', 'the', 'second'), ('solder', 'the', 'second'), ('of', 'the', 'second')]\n",
      "\n",
      "Keyword robbery has 32 matching triplets\n",
      "[('be', 'the', 'very'), ('to', 'the', 'very'), ('are', 'the', 'very'), ('', 'the', 'mystery'), ('of', 'the', 'very'), ('was', 'the', 'very'), ('', 'the', 'discovery'), ('add', 'the', 'very'), ('in', 'the', 'nursery'), ('solved', 'the', 'mystery'), ('but', 'the', 'mystery'), ('planned', 'the', 'robbery'), ('herself', 'the', 'very'), ('on', 'the', 'very'), ('solve', 'the', 'mystery'), ('is', 'the', 'very'), ('upon', 'the', 'very'), ('admire', 'the', 'scenery'), ('of', 'the', 'robbery'), ('from', 'the', 'very'), ('up', 'the', 'mystery'), ('and', 'the', 'mystery'), ('that', 'the', 'very'), ('of', 'the', 'machinery'), ('has', 'the', 'very'), ('out', 'the', 'very'), ('hearing', 'the', 'very'), ('that', 'the', 'mystery'), ('in', 'the', 'very'), ('into', 'the', 'very'), ('discovering', 'the', 'robbery'), ('', 'the', 'very')]\n",
      "\n",
      "Keyword bank has 8 matching triplets\n",
      "[('was', 'the', 'clank'), ('at', 'the', 'bank'), ('upon', 'the', 'mud-bank'), ('from', 'the', 'bank'), ('leaves', 'the', 'bank'), ('expect', 'the', 'bank'), ('of', 'the', 'bank'), ('how', 'the', 'bank')]\n",
      "\n",
      "Keyword police has 40 matching triplets\n",
      "[('', 'the', 'police'), ('that', 'the', 'practice'), ('be', 'the', 'police'), ('by', 'the', 'police'), ('to', 'the', 'police'), ('of', 'the', 'grice'), ('all', 'the', 'police'), ('informed', 'the', 'police'), ('of', 'the', 'police'), ('leaving', 'the', 'office'), ('of', 'the', 'price'), ('from', 'the', 'office'), ('convince', 'the', 'police'), ('when', 'the', 'police'), ('stop', 'the', 'service'), ('moment', 'the', 'police'), ('later', 'the', 'voice'), ('if', 'the', 'police'), ('in', 'the', 'office'), ('avoid', 'the', 'police'), ('seen', 'the', 'police'), ('into', 'the', 'office'), ('and', 'the', 'price'), ('said', 'the', 'police'), ('', 'the', 'voice'), ('call', 'the', 'police'), ('or', 'the', 'police'), ('to', 'the', 'office'), ('of', 'the', 'water-police'), ('of', 'the', 'office'), ('let', 'the', 'police'), ('that', 'the', 'police'), ('with', 'the', 'ice'), ('did', 'the', 'police'), ('at', 'the', 'office'), ('with', 'the', 'police'), ('took', 'the', 'advice'), ('remember', 'the', 'advice'), ('in', 'the', 'police'), ('for', 'the', 'police')]\n",
      "\n"
     ]
    }
   ],
   "source": [
    "# For each keyword\n",
    "keywords = [\"gold\", \"diamond\", \"robbery\", \"bank\", \"police\"]\n",
    "keyword_triplets = []\n",
    "for keyword in keywords:\n",
    "\n",
    "    # For each triplet\n",
    "    matching_triplets = []\n",
    "    for triplet in triplets:\n",
    "        word = triplet[2]\n",
    "        \n",
    "        # Check suffixes match atleast 3 characters\n",
    "        if len(word) >= 3 and keyword[-3:] == word[-3:]:\n",
    "            matching_triplets.append(triplet)\n",
    "    \n",
    "    # Found all matching triplets\n",
    "    keyword_triplets.append(matching_triplets)\n",
    "    print(f\"Keyword {keyword} has {len(matching_triplets)} matching triplets\")\n",
    "    print(matching_triplets)\n",
    "    print(\"\")\n"
   ]
  },
  {
   "cell_type": "markdown",
   "metadata": {},
   "source": [
    "## c. Find Semantically Good Triplets"
   ]
  },
  {
   "cell_type": "markdown",
   "metadata": {},
   "source": [
    "I train a model on the list of words from earlier.  \n",
    "Then using this, sort the triplets for each word by the semantic similarity between word 1 and 3.  "
   ]
  },
  {
   "cell_type": "code",
   "execution_count": 14,
   "metadata": {},
   "outputs": [
    {
     "name": "stdout",
     "output_type": "stream",
     "text": [
      "Finding top 5 triplets for keyword 'gold'\n",
      "- (from the old) score=0.998\n",
      "- (one the old) score=0.998\n",
      "- (by the old) score=0.998\n",
      "- (in the old) score=0.998\n",
      "- (as the old) score=0.998\n",
      "\n",
      "Finding top 5 triplets for keyword 'diamond'\n",
      "- (if the second) score=0.897\n",
      "- (at the second) score=0.896\n",
      "- (in the second) score=0.896\n",
      "- (to the second) score=0.896\n",
      "- (of the second) score=0.896\n",
      "\n",
      "Finding top 5 triplets for keyword 'robbery'\n",
      "- (is the very) score=1.000\n",
      "- (to the very) score=1.000\n",
      "- (was the very) score=1.000\n",
      "- (of the very) score=1.000\n",
      "- (that the very) score=1.000\n",
      "\n",
      "Finding top 5 triplets for keyword 'bank'\n",
      "- (upon the mud-bank) score=0.009\n",
      "- (was the clank) score=0.001\n",
      "- (expect the bank) score=-0.010\n",
      "- (leaves the bank) score=-0.029\n",
      "- (from the bank) score=-0.125\n",
      "\n",
      "Finding top 5 triplets for keyword 'police'\n",
      "- (from the office) score=0.998\n",
      "- (in the office) score=0.998\n",
      "- (into the office) score=0.998\n",
      "- (at the office) score=0.998\n",
      "- (of the office) score=0.998\n",
      "\n"
     ]
    }
   ],
   "source": [
    "# Train word2vec over all words\n",
    "model = Word2Vec([ words ], vector_size=300, window=5, min_count=1, workers=4)\n",
    "\n",
    "# For each keyword and associated triplets\n",
    "keyword_triplets_best = []\n",
    "for i in range(len(keyword_triplets)):\n",
    "    print(f\"Finding top 5 triplets for keyword '{keywords[i]}'\")\n",
    "\n",
    "    # Sort triplets by similarity of word 1 and word 3\n",
    "    scored_triplets = [ (t, model.wv.similarity(t[0], t[2])) for t in keyword_triplets[i] ]\n",
    "    scored_triplets = sorted(scored_triplets, key=lambda x: x[1], reverse=True)\n",
    "    scored_triplets = scored_triplets[:5]\n",
    "\n",
    "    # Found top 5 triplets\n",
    "    keyword_triplets_best.append(scored_triplets)\n",
    "    for triplet, score in scored_triplets:\n",
    "        print(f\"- ({triplet[0]} {triplet[1]} {triplet[2]}) score={score:.3f}\")\n",
    "    print(\"\")\n"
   ]
  },
  {
   "cell_type": "markdown",
   "metadata": {},
   "source": [
    "# Q4. Basic MLP"
   ]
  },
  {
   "cell_type": "markdown",
   "metadata": {},
   "source": [
    "I have limited training data to the range (0, 10).  \n",
    "The test data is limited to the external range (10, 20).  \n",
    "Furthermore, the larger the range of values used the longer the network takes to train.  \n",
    "\n",
    "Simple networks with only linear and ReLU layers have difficulty with generalizing for multiplication.  \n",
    "Something such as a Recurrent NN may be more suited.  "
   ]
  },
  {
   "cell_type": "code",
   "execution_count": 15,
   "metadata": {},
   "outputs": [],
   "source": [
    "# -- Q4. Basic MLP --\n",
    "\n",
    "# Define basic MLP\n",
    "class BasicMLP(nn.Module):\n",
    "    def __init__(self):\n",
    "        super(BasicMLP, self).__init__()\n",
    "        self.relu = nn.ReLU()\n",
    "        self.fc1 = nn.Linear(2, 25)\n",
    "        self.fc2 = nn.Linear(25, 25)\n",
    "        self.fc3 = nn.Linear(25, 1)\n",
    "    \n",
    "    def forward(self, x):\n",
    "        x = self.relu(self.fc1(x))\n",
    "        x = self.relu(self.fc2(x))\n",
    "        x = self.fc3(x)\n",
    "        return x\n",
    "\n",
    "# Generate random data in range (0, 10)\n",
    "train_X = np.random.rand(1000, 2) * 10\n",
    "train_y = train_X[:, 0] * train_X[:, 1]\n",
    "train_X = torch.tensor(train_X).float()\n",
    "train_y = torch.tensor(train_y).float().reshape(-1, 1)\n",
    "\n",
    "# Generate test data outside the range (10, 20)\n",
    "test_X = 10 + np.random.rand(1000, 2) * 10\n",
    "test_y = test_X[:, 0] * test_X[:, 1]\n",
    "test_X = torch.tensor(test_X).float()\n",
    "test_y = torch.tensor(test_y).float().reshape(-1, 1)\n"
   ]
  },
  {
   "cell_type": "code",
   "execution_count": 16,
   "metadata": {},
   "outputs": [
    {
     "name": "stdout",
     "output_type": "stream",
     "text": [
      "Training for 1000 epochs...\n",
      "Epoch [0/1000], loss 1160.2225341796875\n",
      "Epoch [50/1000], loss 129.7347869873047\n",
      "Epoch [100/1000], loss 14.285234451293945\n",
      "Epoch [150/1000], loss 6.39487886428833\n",
      "Epoch [200/1000], loss 4.322103977203369\n",
      "Epoch [250/1000], loss 3.2506775856018066\n",
      "Epoch [300/1000], loss 2.546607255935669\n",
      "Epoch [350/1000], loss 2.0758602619171143\n",
      "Epoch [400/1000], loss 1.7134166955947876\n",
      "Epoch [450/1000], loss 1.4140819311141968\n",
      "Epoch [500/1000], loss 1.1759065389633179\n",
      "Epoch [550/1000], loss 0.9909968376159668\n",
      "Epoch [600/1000], loss 0.8400720357894897\n",
      "Epoch [650/1000], loss 0.6973899006843567\n",
      "Epoch [700/1000], loss 0.5768535137176514\n",
      "Epoch [750/1000], loss 0.4763795733451843\n",
      "Epoch [800/1000], loss 0.39716723561286926\n",
      "Epoch [850/1000], loss 0.3330005407333374\n",
      "Epoch [900/1000], loss 0.3565601110458374\n",
      "Epoch [950/1000], loss 0.24368982017040253\n",
      "Training done.\n"
     ]
    }
   ],
   "source": [
    "# Training loop for basic MLP\n",
    "model = BasicMLP()\n",
    "criterion = nn.MSELoss()\n",
    "optimizer = optim.Adam(model.parameters(), lr=0.01)\n",
    "\n",
    "max_epoch = 1000\n",
    "print(f\"Training for {max_epoch} epochs...\")\n",
    "for epoch in range(max_epoch):\n",
    "    optimizer.zero_grad()\n",
    "    train_y_pred = model(train_X)\n",
    "    loss = criterion(train_y_pred, train_y)\n",
    "    loss.backward()\n",
    "    optimizer.step()\n",
    "\n",
    "    if epoch % 50 == 0:\n",
    "        print(f\"Epoch [{epoch}/{max_epoch}], loss {loss.item()}\")\n",
    "print(\"Training done.\")\n"
   ]
  },
  {
   "cell_type": "code",
   "execution_count": 17,
   "metadata": {},
   "outputs": [
    {
     "name": "stdout",
     "output_type": "stream",
     "text": [
      "Evaluating model:\n",
      "Sample loss: 0.2473130226135254\n",
      "Test loss: 56.01510238647461\n"
     ]
    }
   ],
   "source": [
    "print(\"Evaluating model:\")\n",
    "\n",
    "# Evaluate against a random sample of 5 from training data\n",
    "indices = np.random.choice(train_X.shape[0], 5, replace=False)\n",
    "sample_X = train_X[indices]\n",
    "sample_y = train_y[indices]\n",
    "sample_y_pred = model(sample_X)\n",
    "sample_loss = torch.abs(sample_y_pred - sample_y).mean()\n",
    "print(f\"Sample loss: {sample_loss.item()}\")\n",
    "\n",
    "# Evaluate against all of the test data\n",
    "test_y_pred = model(test_X)\n",
    "test_loss = torch.abs(test_y_pred - test_y).mean()\n",
    "print(f\"Test loss: {test_loss.item()}\")\n"
   ]
  },
  {
   "cell_type": "markdown",
   "metadata": {},
   "source": [
    "# Q5. Telling the Time"
   ]
  },
  {
   "cell_type": "markdown",
   "metadata": {},
   "source": [
    "## Justification"
   ]
  },
  {
   "cell_type": "markdown",
   "metadata": {},
   "source": [
    "For clock face recognition I have chosen to use a Convolutional Neural Network, trained as a classifier.  \n",
    "That is, it takes in a tensor representing an image, and outputs probabilities of 720 classes representing each possible minute.  \n",
    "\n",
    "The use of convolution is intended to allow the network to learn specific features (e.g. clock hands, edges). \n",
    " \n",
    "The choice of using classification is to constrain the output of the network to just the outputs we want.  \n",
    "A regression problem would produce decimal values, which means the network would have to do more work than necessary.  \n",
    "With the more defined goal of classification I can then use softmax with cross entropy loss.  "
   ]
  },
  {
   "cell_type": "markdown",
   "metadata": {},
   "source": [
    "Due to training the model as classification, and the problem definition requiring hours:minutes, I need a set of processing functions.  \n",
    "I define label_to_onehot() and onehot_to_label() to convert between (hours, minutes) and one-hot of length (720) representations.  \n",
    "\n",
    "For training, I use onehot representation so I can use cross entropy as described above for the loss function.  \n",
    "For validation, I use the pair representation with the described median algorithm.  \n",
    "To implement the described median algorithm I convert the (hours, minutes) to a flat minutes through the day, then calculate the absolute difference.  \n",
    "I then also find the min of this value with `12*60 - diff` to allow for the circular nature of time.  "
   ]
  },
  {
   "cell_type": "markdown",
   "metadata": {},
   "source": [
    "Looking at the final graphs of training cross entropy loss, validation loss, and validation accuracy, the model converges after approximately 20 epochs with training rate of 0.001 with Adam optimizer.\n",
    "\n",
    "The final saved model was trained across 50 epochs to allow the training cross entropy loss to plateau, however the validation loss achieved a median of 0 minutes within 5 epochs. The model was not slow to train (completing in a few minutes) and nor did it overfit the training data so no harm was seen in doing 50 epochs."
   ]
  },
  {
   "cell_type": "markdown",
   "metadata": {},
   "source": [
    "## Extracting Data"
   ]
  },
  {
   "cell_type": "code",
   "execution_count": 2,
   "metadata": {},
   "outputs": [],
   "source": [
    "# -- Q5. Telling the Time --\n",
    "\n",
    "def preprocess_images(images):\n",
    "    # Input images is (Bx3x448x448) in float range [0..1]\n",
    "    # Resize to (Bx3x224x224) with interpolation\n",
    "    images = torch.nn.functional.interpolate(images, size=224, mode=\"bilinear\")\n",
    "    # Greyscale (Bx3x224x224) to (Bx1x224x224) with mean\n",
    "    images = torch.mean(images, dim=1, keepdim=True)\n",
    "    return images\n",
    "\n",
    "def label_to_onehot(label):\n",
    "    # Input label is (Bx2) in range [0..12, 0..59]\n",
    "    # Convert to onehot (Bx720)\n",
    "    onehot = torch.zeros(label.shape[0], 720)\n",
    "    onehot[:, label[:, 0] * 60 + label[:, 1]] = 1\n",
    "    return onehot\n",
    "\n",
    "def onehot_to_label(onehot):\n",
    "    # Input onehot is (Bx720)\n",
    "    # Convert to label (Bx2)\n",
    "    label = torch.argmax(onehot, dim=1)\n",
    "    return torch.stack([label // 60, label % 60], dim=1)\n",
    "\n",
    "# Images stored in clocks_dataset/train/0000.png - 9999.png as (448x448) RGB images\n",
    "# Labels stored in clocks_dataset/train/0000.txt - 9999.txt as \"HH:MM\" strings\n",
    "# Output N images tensors size (3x448x448) in float range [0..1]\n",
    "# Output N labels tensors size (720) as one-hot encoding of [H, M]\n",
    "class ClockDataset(torch.utils.data.Dataset):\n",
    "    def __init__(self):\n",
    "        self.images = []\n",
    "        self.labels = []\n",
    "\n",
    "        # Load all images and labels from files\n",
    "        to_load = 10000\n",
    "        for i in range(to_load):\n",
    "            # Read from PNG to (3x448x448) tensor in range [0, 1]\n",
    "            image = torchio.read_image(f\"clocks_dataset/train/{i:04d}.png\") / 255\n",
    "            image = preprocess_images(image.unsqueeze(0)).squeeze(0)\n",
    "            self.images.append(image)\n",
    "\n",
    "            # Read from \"HH:MM\" string to (2) tensor as [H, M]\n",
    "            label = open(f\"clocks_dataset/train/{i:04d}.txt\", \"r\").read().strip() \n",
    "            label = torch.tensor([int(x) for x in label.split(\":\")], dtype=torch.int)\n",
    "            label = label_to_onehot(label.unsqueeze(0)).squeeze(0)\n",
    "            self.labels.append(label)\n",
    "\n",
    "            if (i + 1) % 200 == 0:\n",
    "                progress_bar = \"=\" * ((i + 1) // 200) + \" \" * ((to_load - i - 1) // 200)\n",
    "                print(f\"\\rLoading images [{progress_bar}] {i + 1}/{to_load}\", end=\"\")\n",
    "\n",
    "\n",
    "        print(\"\")\n",
    "        \n",
    "    def __len__(self):\n",
    "        return len(self.labels)\n",
    "    \n",
    "    def __getitem__(self, idx):\n",
    "        return self.images[idx], self.labels[idx]\n"
   ]
  },
  {
   "cell_type": "code",
   "execution_count": 4,
   "metadata": {},
   "outputs": [
    {
     "name": "stdout",
     "output_type": "stream",
     "text": [
      "Loading images [==================================================] 10000/10000\n",
      "\n",
      "Loaded Clock Dataset\n",
      "\n",
      "- Training Size: 8500\n",
      "- Validation Size: 1500\n",
      "- Training Batch Size: 100\n",
      "- Training Batches: 85\n",
      "- Training Batch Image Shape: torch.Size([1, 224, 224])\n",
      "- Training Batch Label Shape: torch.Size([720])\n"
     ]
    },
    {
     "data": {
      "image/png": "[encoded data removed]",
      "text/plain": [
       "<Figure size 300x300 with 6 Axes>"
      ]
     },
     "metadata": {},
     "output_type": "display_data"
    }
   ],
   "source": [
    "# Load dataset, split into train / validate, create dataloaders\n",
    "clock_dataset = ClockDataset()\n",
    "train_size = int(0.85 * len(clock_dataset))\n",
    "validation_size = len(clock_dataset) - train_size\n",
    "train_dataset, validation_dataset = torch.utils.data.random_split(clock_dataset, [train_size, validation_size])\n",
    "batch_size = 100\n",
    "train_loader = torch.utils.data.DataLoader(train_dataset, batch_size=batch_size, shuffle=True)\n",
    "validation_loader = torch.utils.data.DataLoader(validation_dataset, batch_size=batch_size, shuffle=False)\n",
    "\n",
    "# Print overview of dataset\n",
    "print(\"\\nLoaded Clock Dataset\\n\")\n",
    "print(f\"- Training Size: {len(train_dataset)}\")\n",
    "print(f\"- Validation Size: {len(validation_dataset)}\")\n",
    "print(f\"- Training Batch Size: {batch_size}\")\n",
    "print(f\"- Training Batches: {len(train_loader)}\")\n",
    "image, label = train_dataset[0]\n",
    "print(f\"- Training Batch Image Shape: {image.shape}\")\n",
    "print(f\"- Training Batch Label Shape: {label.shape}\")\n",
    "\n",
    "# Visualise the first 6 images and labels\n",
    "plt.figure(figsize=(3, 3))\n",
    "for i in range(6):\n",
    "    image, label = train_dataset[i]\n",
    "    plt.subplot(2, 3, i + 1)\n",
    "    image = image.squeeze(0).numpy()\n",
    "    label = onehot_to_label(label.unsqueeze(0)).squeeze(0)\n",
    "    plt.imshow(image, cmap=\"gray\")\n",
    "    plt.title(f\"{int(label[0]):02d}:{int(label[1]):02d}\")\n",
    "    plt.axis(\"off\")\n",
    "plt.tight_layout()\n",
    "plt.show()\n"
   ]
  },
  {
   "cell_type": "markdown",
   "metadata": {},
   "source": [
    "## Model and Training"
   ]
  },
  {
   "cell_type": "code",
   "execution_count": 8,
   "metadata": {},
   "outputs": [
    {
     "name": "stdout",
     "output_type": "stream",
     "text": [
      "Using device: cuda\n"
     ]
    }
   ],
   "source": [
    "# Set device to GPU if available\n",
    "device = torch.device(\"cuda\" if torch.cuda.is_available() else \"cpu\")\n",
    "print(\"Using device:\", device)\n"
   ]
  },
  {
   "cell_type": "code",
   "execution_count": 9,
   "metadata": {},
   "outputs": [],
   "source": [
    "# CNN for clock face classification\n",
    "# - Input is (Bx1x224x224) greyscale images\n",
    "# - Output is (Bx720) classes for each minute of the day\n",
    "class ClockClassificationCNN(nn.Module):\n",
    "    def __init__(self):\n",
    "        super(ClockClassificationCNN, self).__init__()\n",
    "        self.net = nn.Sequential(\n",
    "            # Bx1x224x224 -> Bx16x112x112\n",
    "            nn.Conv2d(1, 16, kernel_size=3, stride=1, padding=1),\n",
    "            nn.ReLU(),\n",
    "            nn.MaxPool2d(kernel_size=2),\n",
    "            # Bx16x112x112 -> Bx32x56x56\n",
    "            nn.Conv2d(16, 32, kernel_size=3, stride=1, padding=1),\n",
    "            nn.ReLU(),\n",
    "            nn.MaxPool2d(kernel_size=2),\n",
    "            # Bx32x56x56 -> Bx48x28x28\n",
    "            nn.Conv2d(32, 48, kernel_size=3, stride=1, padding=1),\n",
    "            nn.ReLU(),\n",
    "            nn.MaxPool2d(kernel_size=2),\n",
    "            nn.Flatten(),\n",
    "            # Bx(48x28x28) -> Bx(12x60)\n",
    "            nn.Linear(48 * 28 * 28, 128),\n",
    "            nn.ReLU(),\n",
    "            nn.Linear(128, 12 * 60)\n",
    "        )\n",
    "\n",
    "    def forward(self, x):\n",
    "        return self.net(x)\n",
    "\n",
    "def criterion_eval(pred_y, real_y):\n",
    "    # Input tensor shape: (B x 2)\n",
    "    # Convert (hours, minutes) to minutes, calc diff wrapped around 12 hours\n",
    "    pred_mins = pred_y[:, 0] * 60 + pred_y[:, 1]\n",
    "    real_mins = real_y[:, 0] * 60 + real_y[:, 1]\n",
    "    diff = torch.abs(pred_mins - real_mins)\n",
    "    diff = torch.min(diff, 12 * 60 - diff)\n",
    "    return torch.median(diff)\n",
    "\n",
    "def criterion_train(pred_y, real_y):\n",
    "    # Input tensor shape: (B x 720)\n",
    "    # Softmax cross entropy loss for onehot labels\n",
    "    return nn.CrossEntropyLoss()(pred_y, real_y)\n"
   ]
  },
  {
   "cell_type": "code",
   "execution_count": 10,
   "metadata": {},
   "outputs": [],
   "source": [
    "# Load new model and optimizer\n",
    "model = ClockClassificationCNN()\n",
    "optimizer = optim.Adam(model.parameters(), lr=0.001)\n"
   ]
  },
  {
   "cell_type": "code",
   "execution_count": 11,
   "metadata": {},
   "outputs": [
    {
     "name": "stdout",
     "output_type": "stream",
     "text": [
      "Training for 50 epochs with 85 training batches...\n",
      "Epoch [1/50], training loss 6.583, validation loss 179.000, validation accuracy 0.001\n",
      "Epoch [2/50], training loss 6.573, validation loss 174.000, validation accuracy 0.004\n",
      "Epoch [3/50], training loss 6.101, validation loss 60.000, validation accuracy 0.096\n",
      "Epoch [4/50], training loss 3.468, validation loss 1.000, validation accuracy 0.309\n",
      "Epoch [5/50], training loss 1.968, validation loss 1.000, validation accuracy 0.419\n",
      "Epoch [6/50], training loss 1.350, validation loss 1.000, validation accuracy 0.481\n",
      "Epoch [7/50], training loss 1.020, validation loss 0.000, validation accuracy 0.507\n",
      "Epoch [8/50], training loss 0.749, validation loss 0.000, validation accuracy 0.521\n",
      "Epoch [9/50], training loss 0.581, validation loss 0.000, validation accuracy 0.553\n",
      "Epoch [10/50], training loss 0.441, validation loss 0.000, validation accuracy 0.537\n",
      "Epoch [11/50], training loss 0.311, validation loss 0.000, validation accuracy 0.539\n",
      "Epoch [12/50], training loss 0.267, validation loss 0.000, validation accuracy 0.546\n",
      "Epoch [13/50], training loss 0.203, validation loss 0.000, validation accuracy 0.559\n",
      "Epoch [14/50], training loss 0.160, validation loss 0.000, validation accuracy 0.549\n",
      "Epoch [15/50], training loss 0.142, validation loss 0.000, validation accuracy 0.536\n",
      "Epoch [16/50], training loss 0.134, validation loss 0.000, validation accuracy 0.542\n",
      "Epoch [17/50], training loss 0.123, validation loss 0.000, validation accuracy 0.553\n",
      "Epoch [18/50], training loss 0.091, validation loss 0.000, validation accuracy 0.544\n",
      "Epoch [19/50], training loss 0.077, validation loss 0.000, validation accuracy 0.543\n",
      "Epoch [20/50], training loss 0.062, validation loss 0.000, validation accuracy 0.537\n",
      "Epoch [21/50], training loss 0.069, validation loss 0.000, validation accuracy 0.543\n",
      "Epoch [22/50], training loss 0.099, validation loss 0.000, validation accuracy 0.537\n",
      "Epoch [23/50], training loss 0.067, validation loss 0.000, validation accuracy 0.539\n",
      "Epoch [24/50], training loss 0.055, validation loss 0.000, validation accuracy 0.547\n",
      "Epoch [25/50], training loss 0.043, validation loss 0.000, validation accuracy 0.547\n",
      "Epoch [26/50], training loss 0.059, validation loss 0.000, validation accuracy 0.547\n",
      "Epoch [27/50], training loss 0.052, validation loss 0.000, validation accuracy 0.550\n",
      "Epoch [28/50], training loss 0.071, validation loss 0.000, validation accuracy 0.548\n",
      "Epoch [29/50], training loss 0.062, validation loss 0.000, validation accuracy 0.551\n",
      "Epoch [30/50], training loss 0.052, validation loss 0.000, validation accuracy 0.548\n",
      "Epoch [31/50], training loss 0.045, validation loss 0.000, validation accuracy 0.555\n",
      "Epoch [32/50], training loss 0.045, validation loss 0.000, validation accuracy 0.561\n",
      "Epoch [33/50], training loss 0.061, validation loss 0.000, validation accuracy 0.557\n",
      "Epoch [34/50], training loss 0.038, validation loss 0.000, validation accuracy 0.569\n",
      "Epoch [35/50], training loss 0.047, validation loss 0.000, validation accuracy 0.557\n",
      "Epoch [36/50], training loss 0.043, validation loss 0.000, validation accuracy 0.567\n",
      "Epoch [37/50], training loss 0.031, validation loss 0.000, validation accuracy 0.544\n",
      "Epoch [38/50], training loss 0.034, validation loss 0.000, validation accuracy 0.564\n",
      "Epoch [39/50], training loss 0.019, validation loss 0.000, validation accuracy 0.567\n",
      "Epoch [40/50], training loss 0.016, validation loss 0.000, validation accuracy 0.574\n",
      "Epoch [41/50], training loss 0.010, validation loss 0.000, validation accuracy 0.571\n",
      "Epoch [42/50], training loss 0.007, validation loss 0.000, validation accuracy 0.559\n",
      "Epoch [43/50], training loss 0.005, validation loss 0.000, validation accuracy 0.559\n",
      "Epoch [44/50], training loss 0.005, validation loss 0.000, validation accuracy 0.561\n",
      "Epoch [45/50], training loss 0.012, validation loss 0.000, validation accuracy 0.568\n",
      "Epoch [46/50], training loss 0.027, validation loss 0.000, validation accuracy 0.536\n",
      "Epoch [47/50], training loss 0.112, validation loss 0.000, validation accuracy 0.527\n",
      "Epoch [48/50], training loss 0.131, validation loss 0.000, validation accuracy 0.535\n",
      "Epoch [49/50], training loss 0.066, validation loss 0.000, validation accuracy 0.559\n",
      "Epoch [50/50], training loss 0.055, validation loss 0.000, validation accuracy 0.548\n",
      "Training finished.\n"
     ]
    }
   ],
   "source": [
    "# Training loop for clock classification\n",
    "model.to(device)\n",
    "model.train()\n",
    "max_epoch = 50\n",
    "max_training_batch = len(train_loader)\n",
    "epoch_train_losses = []\n",
    "epoch_validation_losses = []\n",
    "epoch_validation_accuracies = []\n",
    "print(f\"Training for {max_epoch} epochs with {max_training_batch} training batches...\")\n",
    "for epoch in range(max_epoch):\n",
    "\n",
    "    # Train against training dataset\n",
    "    batch_epoch_train_losses = []\n",
    "    for i, (images, real_y) in enumerate(train_loader):\n",
    "        optimizer.zero_grad()\n",
    "        images = images.to(device)\n",
    "        real_y = real_y.to(device)\n",
    "        pred_y = model(images)\n",
    "        loss = criterion_train(pred_y, real_y)\n",
    "        loss.backward()\n",
    "        optimizer.step()\n",
    "        batch_epoch_train_losses.append(loss.item())\n",
    "        if (i + 1) % 5 == 0:\n",
    "            print(f\"Epoch [{epoch+1}/{max_epoch}], batch [{(i + 1)}/{max_training_batch}], training loss {(loss.item()):.3f}\", end=\"\\r\")\n",
    "    epoch_training_loss = np.mean(batch_epoch_train_losses)\n",
    "    epoch_train_losses.append(epoch_training_loss)\n",
    "\n",
    "    # Accumulate results against validation dataset and calculate loss\n",
    "    model.eval()\n",
    "    with torch.no_grad():\n",
    "        all_real_y = []\n",
    "        all_pred_y = []\n",
    "        for images, real_y in validation_loader:\n",
    "            images = images.to(device)\n",
    "            pred_y = model(images).cpu()\n",
    "            all_real_y.append(onehot_to_label(real_y))\n",
    "            all_pred_y.append(onehot_to_label(pred_y))\n",
    "        epoch_validation_loss = criterion_eval(torch.cat(all_pred_y), torch.cat(all_real_y)).item()\n",
    "        accuracy_correct = (torch.cat(all_real_y) == torch.cat(all_pred_y)).all(dim=1).sum().item()\n",
    "        accuracy_total = len(torch.cat(all_real_y))\n",
    "        epoch_validation_accuracy = accuracy_correct / accuracy_total\n",
    "        epoch_validation_losses.append(epoch_validation_loss)\n",
    "        epoch_validation_accuracies.append(epoch_validation_accuracy)\n",
    "    model.train()\n",
    "\n",
    "    # Calculate mean loss for epoch and output\n",
    "    print(f\"Epoch [{epoch+1}/{max_epoch}], training loss {(epoch_training_loss):.3f}, validation loss {(epoch_validation_loss):.3f}, validation accuracy {(epoch_validation_accuracy):.3f}\")\n",
    "\n",
    "print(\"Training finished.\")\n"
   ]
  },
  {
   "cell_type": "code",
   "execution_count": 12,
   "metadata": {},
   "outputs": [
    {
     "data": {
      "image/png": "[encoded data removed]",
      "text/plain": [
       "<Figure size 1000x250 with 3 Axes>"
      ]
     },
     "metadata": {},
     "output_type": "display_data"
    }
   ],
   "source": [
    "# Plot training and validation losses on adjacent graphs\n",
    "fig, ax = plt.subplots(1, 3, figsize=(10, 2.5))\n",
    "\n",
    "ax[0].plot(epoch_train_losses)\n",
    "ax[0].set_title(\"Training Loss\")\n",
    "ax[0].set_xticks(range(0, max_epoch, 4))\n",
    "ax[0].set_xlabel(\"Epoch\")\n",
    "\n",
    "ax[1].plot(epoch_validation_losses)\n",
    "ax[1].set_title(\"Validation Loss\")\n",
    "ax[1].set_xticks(range(0, max_epoch, 4))\n",
    "ax[1].set_xlabel(\"Epoch\")\n",
    "\n",
    "# Plot validation accuracy\n",
    "ax[2].plot(epoch_validation_accuracies)\n",
    "ax[2].set_title(\"Validation Accuracy\")\n",
    "ax[2].set_xticks(range(0, max_epoch, 4))\n",
    "ax[2].set_xlabel(\"Epoch\")\n",
    "\n",
    "plt.tight_layout()\n",
    "plt.show()\n"
   ]
  },
  {
   "cell_type": "code",
   "execution_count": 13,
   "metadata": {},
   "outputs": [
    {
     "name": "stdout",
     "output_type": "stream",
     "text": [
      "Final Validation Loss: 0\n",
      "Final Validation Accuracy: 0.548\n"
     ]
    },
    {
     "data": {
      "image/png": "[encoded data removed]",
      "text/plain": [
       "<Figure size 300x300 with 6 Axes>"
      ]
     },
     "metadata": {},
     "output_type": "display_data"
    }
   ],
   "source": [
    "model.to(device)\n",
    "model.eval()\n",
    "with torch.no_grad():\n",
    "\n",
    "    # Predict each image seperately and accumulate results\n",
    "    all_real_y = []\n",
    "    all_pred_y = []\n",
    "    for images, real_y in validation_loader:\n",
    "        images = images.to(device)\n",
    "        pred_y = model(images).cpu()\n",
    "        all_real_y.append(onehot_to_label(real_y))\n",
    "        all_pred_y.append(onehot_to_label(pred_y))\n",
    "\n",
    "    # Find final validation loss and accuracy across all images\n",
    "    final_validation_loss = criterion_eval(torch.cat(all_pred_y), torch.cat(all_real_y)).item()\n",
    "    correct = (torch.cat(all_real_y) == torch.cat(all_pred_y)).all(dim=1).sum().item()\n",
    "    total = len(torch.cat(all_real_y))\n",
    "    accuracy = correct / total\n",
    "\n",
    "print(f\"Final Validation Loss: {final_validation_loss}\")\n",
    "print(f\"Final Validation Accuracy: {accuracy:.3f}\")\n",
    "\n",
    "# Visualise the first 6 images, show predicted vs real labels\n",
    "plt.figure(figsize=(3, 3))\n",
    "plt.rc(\"font\", size=6)\n",
    "for i in range(6):\n",
    "    image, real_y = validation_dataset[i]\n",
    "    image = image.to(device)\n",
    "    pred_y = onehot_to_label(model(image.unsqueeze(0))).cpu().numpy()\n",
    "    real_y = onehot_to_label(real_y.unsqueeze(0)).cpu().numpy()\n",
    "    image = image.squeeze(0).squeeze(0).cpu().numpy()\n",
    "    plt.subplot(2, 3, i + 1)\n",
    "    plt.imshow(image, cmap=\"gray\")\n",
    "    plt.title(f\"Pred: {int(pred_y[0,0]):02d}:{int(pred_y[0,1]):02d}\\nReal: {int(real_y[0,0]):02d}:{int(real_y[0,1]):02d}\")\n",
    "    plt.axis(\"off\")\n",
    "plt.tight_layout()\n",
    "plt.show()\n"
   ]
  },
  {
   "cell_type": "markdown",
   "metadata": {},
   "source": [
    "## Utility"
   ]
  },
  {
   "cell_type": "code",
   "execution_count": 14,
   "metadata": {},
   "outputs": [],
   "source": [
    "# Save weights to file\n",
    "torch.save(model.state_dict(), \"clock_model.pt\")\n"
   ]
  },
  {
   "cell_type": "code",
   "execution_count": null,
   "metadata": {},
   "outputs": [
    {
     "data": {
      "text/plain": [
       "<All keys matched successfully>"
      ]
     },
     "execution_count": 28,
     "metadata": {},
     "output_type": "execute_result"
    }
   ],
   "source": [
    "# Load model from file\n",
    "model = ClockClassificationCNN()\n",
    "model.load_state_dict(torch.load(\"clock_model.pt\"))\n"
   ]
  },
  {
   "cell_type": "markdown",
   "metadata": {},
   "source": [
    "# Q6. Generative"
   ]
  },
  {
   "cell_type": "code",
   "execution_count": null,
   "metadata": {},
   "outputs": [],
   "source": [
    "# -- Q6. Generative Model --"
   ]
  }
 ],
 "metadata": {
  "kernelspec": {
   "display_name": "Python 3",
   "language": "python",
   "name": "python3"
  },
  "language_info": {
   "codemirror_mode": {
    "name": "ipython",
    "version": 3
   },
   "file_extension": ".py",
   "mimetype": "text/x-python",
   "name": "python",
   "nbconvert_exporter": "python",
   "pygments_lexer": "ipython3",
   "version": "3.11.1"
  }
 },
 "nbformat": 4,
 "nbformat_minor": 2
}
