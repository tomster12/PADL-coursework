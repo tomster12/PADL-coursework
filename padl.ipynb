{
 "cells": [
  {
   "cell_type": "code",
   "execution_count": 1,
   "metadata": {},
   "outputs": [],
   "source": [
    "import csv\n",
    "import numpy as np\n",
    "import matplotlib.pyplot as plt\n",
    "from sklearn.decomposition import PCA\n",
    "from sklearn.linear_model import LinearRegression, Ridge\n",
    "from sklearn.preprocessing import PolynomialFeatures\n",
    "from sklearn.model_selection import KFold\n",
    "from sklearn.metrics import r2_score\n",
    "import re\n",
    "from gensim.models import Word2Vec\n",
    "import torch\n",
    "import torch.nn as nn\n",
    "import torch.optim as optim\n",
    "import torchvision.io as torchio\n"
   ]
  },
  {
   "cell_type": "markdown",
   "metadata": {},
   "source": [
    "# Q1. PCA"
   ]
  },
  {
   "cell_type": "markdown",
   "metadata": {},
   "source": [
    "## Data Loading"
   ]
  },
  {
   "cell_type": "code",
   "execution_count": 94,
   "metadata": {},
   "outputs": [
    {
     "name": "stdout",
     "output_type": "stream",
     "text": [
      "--- Data ---\n",
      "['x1', 'x2', 'x3', 'x4', 'x5']\n",
      "[[ 0.91890765  3.18388059 -0.08010414  9.3159354   5.2941181 ]\n",
      " [-2.46848262  1.69499138 -1.762808    7.91247192  2.4641442 ]\n",
      " [-0.86661073 -0.02815577  4.8980317  11.77602453 -4.4810839 ]\n",
      " [ 0.15403261  2.63287823 -2.36163801  3.26223239  4.0097756 ]\n",
      " [-0.62210432  5.51591972 -0.39977591 12.13958265  6.4871446 ]]\n",
      "\n",
      "--- Variance ---\n",
      "114.70494912140819\n",
      "[ 2.048654    8.03910539 17.88568982 32.31447983 54.41702008]\n"
     ]
    }
   ],
   "source": [
    "# Load csv data to an np.array\n",
    "with open(\"PADL-Q1.csv\", \"r\") as f:\n",
    "    reader = csv.reader(f)\n",
    "    data_headers = next(reader)\n",
    "    data = np.array(list(reader)).astype(float)\n",
    "\n",
    "print(\"--- Data ---\")\n",
    "print(data_headers)\n",
    "print(data[:5])\n",
    "\n",
    "print(\"\\n--- Variance ---\")\n",
    "data_var = np.var(data, axis=0)\n",
    "print(sum(data_var))\n",
    "print(data_var)\n"
   ]
  },
  {
   "cell_type": "markdown",
   "metadata": {},
   "source": [
    "## a. Apply PCA with n=5"
   ]
  },
  {
   "cell_type": "markdown",
   "metadata": {},
   "source": [
    "### Thought Process\n",
    "\n",
    "I apply PCA with 5 components to the dataset then analyze the variance of the resulting dimensions.\n",
    "\n",
    "Summing the proportion of variance held by the first N dimensions:  \n",
    "\n",
    "- First 2 PCA dimensions hold 83.91% of the variance.  \n",
    "- First 3 PCA dimensions hold 94.18% of the variance.  \n",
    "- First 4 PCA dimensions hold 98.78% of the variance.  \n",
    "\n",
    "This shows dimensions > 3 hold a relatively small percentage of the datasets information.  \n",
    "Plotting the proportions also shows an inflection point at 3 components.  \n",
    "\n",
    "Therefore, I believe $D_{min}=3$, representing a minimum number of dimensions required to retain little to no data loss.\n"
   ]
  },
  {
   "cell_type": "code",
   "execution_count": 95,
   "metadata": {},
   "outputs": [
    {
     "name": "stdout",
     "output_type": "stream",
     "text": [
      "--- data_pca5 Variance ---\n",
      "114.70494912140809\n",
      "[61.7643465  34.48928083 11.77245573  5.28311027  1.39575579]\n",
      "[0.53846279 0.30067823 0.1026325  0.04605826 0.01216823]\n",
      "\n",
      "--- Variance Proportions ---\n",
      "First 1 dims variance proportion: 0.5384627862600507\n",
      "First 2 dims variance proportion: 0.8391410141574704\n",
      "First 3 dims variance proportion: 0.9417735144837427\n",
      "First 4 dims variance proportion: 0.9878317735978975\n",
      "First 5 dims variance proportion: 1.0\n"
     ]
    },
    {
     "data": {
      "image/png": "[encoded data removed]",
      "text/plain": [
       "<Figure size 300x200 with 1 Axes>"
      ]
     },
     "metadata": {},
     "output_type": "display_data"
    }
   ],
   "source": [
    "# Apply PCA with 5 components\n",
    "pca5 = PCA(n_components=5)\n",
    "data_pca5 = pca5.fit_transform(data)\n",
    "\n",
    "# Calculate variance of PCA components\n",
    "print(\"--- data_pca5 Variance ---\")\n",
    "data_pca5_var = np.var(data_pca5, axis=0)\n",
    "data_pca5_var_sum = sum(data_pca5_var)\n",
    "print(data_pca5_var_sum)\n",
    "print(data_pca5_var)\n",
    "print(data_pca5_var / data_pca5_var_sum)\n",
    "\n",
    "# Calculate proportion of variances to sum of variances\n",
    "print(\"\\n--- Variance Proportions ---\")\n",
    "for i in range(1, 6):\n",
    "    print(f\"First {i} dims variance proportion: {sum(data_pca5_var[:i]) / data_pca5_var_sum}\")\n",
    "\n",
    "# Plot the variance proportions\n",
    "plt.figure(figsize=(3, 2))\n",
    "plt.plot(range(1, 6), data_pca5_var / data_pca5_var_sum)\n",
    "plt.xlabel(\"Component\")\n",
    "plt.xticks(range(1, 6))\n",
    "plt.show()\n"
   ]
  },
  {
   "cell_type": "markdown",
   "metadata": {},
   "source": [
    "## b. Repeat PCA with n=3"
   ]
  },
  {
   "cell_type": "markdown",
   "metadata": {},
   "source": [
    "### Equations\n",
    "\n",
    "Here are the equations for the first 3 components in decreasing order of variance.  \n",
    "SKLearn calculates the PCA component matrices based on a de-meaned X.  \n",
    "\n",
    "**Component 1**  \n",
    "Var=61.764 (57.2%)  \n",
    "$\\hat{X}_1 = -0.093(x_{0}-0.856) + 0.025(x_{1}-2.238) - 0.349(x_{2}-3.100) + 0.145(x_{3}-3.957) - 0.921(x_{4}-4.884)$  \n",
    "\n",
    "**Component 2**  \n",
    "Var=34.489 (31.9%)  \n",
    "$\\hat{X}_2 =  0.006(x_{0}-0.856) - 0.299(x_{1}-2.238) - 0.114(x_{2}-3.100) - 0.941(x_{3}-3.957) - 0.114(x_{4}-4.884)$  \n",
    "\n",
    "**Component 3**  \n",
    "Var=11.772 (10.9%)  \n",
    "$\\hat{X}_3 =  0.113(x_{0}-0.856) - 0.133(x_{1}-2.238) + 0.914(x_{2}-3.100) - 0.024(x_{3}-3.957) - 0.365(x_{4}-4.884)$  \n"
   ]
  },
  {
   "cell_type": "code",
   "execution_count": 96,
   "metadata": {},
   "outputs": [
    {
     "name": "stdout",
     "output_type": "stream",
     "text": [
      "--- data_pca3 Variance ---\n",
      "108.02608306274739\n",
      "[61.7643465  34.48928083 11.77245573]\n",
      "[0.57175401 0.31926809 0.1089779 ]\n",
      "\n",
      "--- Variance Proportions ---\n",
      "First 1 dim variances: 0.5717540130178995\n",
      "First 2 dim variances: 0.8910220995304451\n",
      "First 3 dim variances: 1.0\n",
      "\n",
      "--- PCA Components ---\n",
      "[[-0.09281879  0.02527186 -0.34876981  0.14508263 -0.92089992]\n",
      " [ 0.00562362 -0.29870463 -0.11422131 -0.94062257 -0.11369515]\n",
      " [ 0.11266752 -0.13315622  0.91420302 -0.02393429 -0.36501429]]\n",
      "\n",
      "--- PCA Latex Equations ---\n",
      "$\\hat{X}_1 = -0.093(x_{0}-0.856) + 0.025(x_{1}-2.238) - 0.349(x_{2}-3.100) + 0.145(x_{3}-3.957) - 0.921(x_{4}-4.884)$\n",
      "$\\hat{X}_2 =  0.006(x_{0}-0.856) - 0.299(x_{1}-2.238) - 0.114(x_{2}-3.100) - 0.941(x_{3}-3.957) - 0.114(x_{4}-4.884)$\n",
      "$\\hat{X}_3 =  0.113(x_{0}-0.856) - 0.133(x_{1}-2.238) + 0.914(x_{2}-3.100) - 0.024(x_{3}-3.957) - 0.365(x_{4}-4.884)$\n"
     ]
    }
   ],
   "source": [
    "# Apply PCA with 3 components\n",
    "pca3 = PCA(n_components=3)\n",
    "data_pca3 = pca3.fit_transform(data)\n",
    "\n",
    "# Calculate variance of PCA components\n",
    "print(\"--- data_pca3 Variance ---\")\n",
    "data_pca3_var = np.var(data_pca3, axis=0)\n",
    "data_pca3_var_sum = sum(data_pca3_var)\n",
    "print(data_pca3_var_sum)\n",
    "print(data_pca3_var)\n",
    "print(data_pca3_var / data_pca3_var_sum)\n",
    "\n",
    "# Calculate proportion of variances to sum of variances\n",
    "print(\"\\n--- Variance Proportions ---\")\n",
    "for i in range(1, 4):\n",
    "    print(f\"First {i} dim variances: {sum(data_pca3_var[:i]) / data_pca3_var_sum}\")\n",
    "\n",
    "print(\"\\n--- PCA Components ---\")\n",
    "print(pca3.components_)\n",
    "\n",
    "# Dirty code to generate latex equations for markdown\n",
    "print(\"\\n--- PCA Latex Equations ---\")\n",
    "data_mean = np.mean(data, axis=0)\n",
    "for i in range(3):\n",
    "    output = f\"\\hat{{X}}_{i + 1} = \"\n",
    "    for j in range(5):\n",
    "        if pca3.components_[i][j] > 0:\n",
    "            if j > 0: output += \" + \"\n",
    "            else: output += \" \"\n",
    "        elif pca3.components_[i][j] < 0:\n",
    "            if j > 0: output += \" - \"\n",
    "            else: output += \"-\"\n",
    "        output += f\"{abs(pca3.components_[i][j]):.3f}(x_{{{j}}}-{data_mean[j]:.3f})\"\n",
    "    print(f\"${output}$\")\n"
   ]
  },
  {
   "cell_type": "markdown",
   "metadata": {},
   "source": [
    "# Q2. Regression"
   ]
  },
  {
   "cell_type": "markdown",
   "metadata": {},
   "source": [
    "## Thought Process\n",
    "\n",
    "**Overview**\n",
    "\n",
    "The data coming in is `(x,y,z,w,out)`.  \n",
    "My overall goal is to find some regression model that maps `(x,y,z,w)` -> `(out)` without overfitting.  \n",
    "\n",
    "To test this programmatically I produce a set of `Model`s varying the following:  \n",
    "\n",
    "- Data polynomial basis **(1 - 6)**\n",
    "- Data normalization **(yes / no)**\n",
    "- Whether to use piecewise regression **(yes / no)**  \n",
    "- Regression model **(linear / ridge)**\n",
    "  - For ridge regression, alpha value **(0.1, 1, 10)**  \n",
    "\n",
    "These allows me to consider basis functions, data normalization, regularisation, and piecewise regression.  \n",
    "\n",
    "I determine the best model with the mean R2 score over the kfolds to train for generalisation.\n",
    "\n",
    "**Piecewise**\n",
    "\n",
    "For piecewise regression I use 2 of the same model, split on some boundary.  \n",
    "From inspection of the data, column `w` is binary between 2 values.  \n",
    "Due to complexity constraints I only tested a piecewise regression with 1 boundary on `w` in these 2 classes.  \n",
    "\n",
    "**Overfitting**\n",
    "\n",
    "For training, I need to consider overfitting due to only having 80 values, as I want a generalised model.  \n",
    "If my number of parameters > number of data points the regressor might \"remember\" the values.  \n",
    "To prevent this, I use `k-fold` data splitting:  \n",
    "\n",
    "- Split data into $k$ groups\n",
    "- Leave 1 group out and fit model on the rest\n",
    "- Use the 1 group for prediction and R2 score\n",
    "\n",
    "I can then average the R2 score over the folds and use that as the determinant for each model.  \n",
    "\n",
    "**Results**\n",
    "\n",
    "An issue here arises due to the result being different every time its ran if k-fold is set to shuffle the data.  \n",
    "Evidently the results are highly dependant on how the random groups are assigned.  \n",
    "\n",
    "Generally however, it seems a **single (non-piecewise) ridge regression** works the best. \n",
    "\n",
    "The degree of polynomial basis, whether to normalize, and the alpha, changes per run.  \n",
    "\n",
    "The best model gets an R2 of approximately 0.55 over the full data, representing an effective improvement over the mean.  "
   ]
  },
  {
   "cell_type": "markdown",
   "metadata": {},
   "source": [
    "## Data Loading"
   ]
  },
  {
   "cell_type": "code",
   "execution_count": 88,
   "metadata": {},
   "outputs": [
    {
     "name": "stdout",
     "output_type": "stream",
     "text": [
      "(80, 5)\n"
     ]
    },
    {
     "data": {
      "image/png": "[encoded data removed]",
      "text/plain": [
       "<Figure size 300x300 with 4 Axes>"
      ]
     },
     "metadata": {},
     "output_type": "display_data"
    }
   ],
   "source": [
    "# Suppress ill-conditioned warning\n",
    "import warnings\n",
    "warnings.filterwarnings(\"ignore\")\n",
    "\n",
    "# Load csv data to an np.array\n",
    "with open(\"PADL-Q2-train.csv\", \"r\") as f:\n",
    "    reader = csv.reader(f)\n",
    "    data = np.array(list(reader)[1:]).astype(float)\n",
    "    all_X = data[:, :-1]\n",
    "    all_y = data[:, -1]\n",
    "\n",
    "# Plot each variable against out in 2x2 grid (x, y, z, w)\n",
    "print(data.shape)\n",
    "plt.figure(figsize=(3, 3))\n",
    "for i in range(4):\n",
    "    plt.subplot(2, 2, i + 1)\n",
    "    plt.scatter(all_X[:, i], all_y, s=1.5)\n",
    "    plt.xlabel(f\"x{i + 1}\")\n",
    "    plt.ylabel([\"x\", \"y\", \"z\", \"w\"][i])\n",
    "    plt.xticks([])\n",
    "    plt.yticks([])\n",
    "plt.tight_layout()\n"
   ]
  },
  {
   "cell_type": "markdown",
   "metadata": {},
   "source": [
    "## Model Definition"
   ]
  },
  {
   "cell_type": "code",
   "execution_count": 89,
   "metadata": {},
   "outputs": [],
   "source": [
    "# Represents all possible different regression setups\n",
    "# This is so I can programmatically try all combinations\n",
    "class Model:\n",
    "    def __init__(self, poly_degree, to_normalize, model):\n",
    "        self.poly_degree = poly_degree\n",
    "        self.to_normalize = to_normalize\n",
    "        self.model = model\n",
    "\n",
    "        if poly_degree > 1:\n",
    "            self.poly = PolynomialFeatures(degree=poly_degree)\n",
    "        \n",
    "        # Calculate name for the printing the model\n",
    "        self.name = \"Model(\"\n",
    "        self.name += f\"degree={self.poly_degree}\"\n",
    "        self.name += f\", normalize={self.to_normalize}\"\n",
    "        self.name += f\", model={self.model.__class__.__name__}\"\n",
    "        if self.model.__class__.__name__ == \"Ridge\":\n",
    "            self.name += f\", alpha={self.model.alpha}\"\n",
    "        self.name += \")\"\n",
    "    \n",
    "    def fit(self, X, y):\n",
    "        # Apply polynomial features if needed\n",
    "        if self.poly_degree > 1:\n",
    "            X = self.poly.fit_transform(X)\n",
    "    \n",
    "        # Normalize data to have mean 0 and std 1 if needed\n",
    "        if self.to_normalize:\n",
    "            mean = np.mean(X, axis=0)\n",
    "            std = np.std(X, axis=0)\n",
    "            std[std == 0] = 1\n",
    "            X = (X - mean) / std\n",
    "        \n",
    "        self.model.fit(X, y)\n",
    "    \n",
    "    def predict(self, X):\n",
    "        # Apply polynomial features if needed\n",
    "        if self.poly_degree > 1:\n",
    "            X = self.poly.transform(X)\n",
    "        \n",
    "        # Normalize data to have mean 0 and std 1 if needed\n",
    "        if self.to_normalize:\n",
    "            mean = np.mean(X, axis=0)\n",
    "            std = np.std(X, axis=0)\n",
    "            std[std == 0] = 1\n",
    "            X = (X - mean) / std\n",
    "\n",
    "        return self.model.predict(X)\n",
    "\n",
    "# Represents multiple models combined together\n",
    "class PiecewiseModel:\n",
    "    def __init__(self, boundary_masker, models):\n",
    "        self.boundary_masker = boundary_masker\n",
    "        self.models = models\n",
    "        self.name = \"PiecewiseModel([\"\n",
    "        self.name += \",\".join([model.name for model in self.models])\n",
    "        self.name += \"])\"\n",
    "\n",
    "    def fit(self, X, y):\n",
    "        # Fit each model with the corresponding masked data\n",
    "        for i, model in enumerate(self.models):\n",
    "            mask = self.boundary_masker(X, i)\n",
    "            model.fit(X[mask], y[mask])\n",
    "\n",
    "    def predict(self, X):\n",
    "        # Predict using each model with their corresponding masked data\n",
    "        y = np.zeros(X.shape[0])\n",
    "        for i, model in enumerate(self.models):\n",
    "            mask = self.boundary_masker(X, i)\n",
    "            y[mask] = model.predict(X[mask])\n",
    "        return y\n"
   ]
  },
  {
   "cell_type": "code",
   "execution_count": 90,
   "metadata": {},
   "outputs": [
    {
     "name": "stdout",
     "output_type": "stream",
     "text": [
      "Produced 120 models\n"
     ]
    }
   ],
   "source": [
    "def boundary_masker(X, i):\n",
    "    # Piecewise based on column 4 (w)\n",
    "    if i == 0:\n",
    "        return X[:, 3] < 0.05\n",
    "    else:\n",
    "        return X[:, 3] >= 0.05\n",
    "\n",
    "# Setup all the models to evaluate\n",
    "models = []\n",
    "for poly_degree in range(1, 7):\n",
    "    for to_normalize in [False, True]:\n",
    "        for to_piecewise in [False, True]:\n",
    "\n",
    "            # Piecewise 2 linear regressions\n",
    "            if to_piecewise:\n",
    "                models.append(PiecewiseModel(boundary_masker, [\n",
    "                    Model(poly_degree, to_normalize, LinearRegression()),\n",
    "                    Model(poly_degree, to_normalize, LinearRegression())\n",
    "                ]))\n",
    "\n",
    "            # Single linear regression\n",
    "            else:\n",
    "                models.append(Model(poly_degree, to_normalize, LinearRegression()))\n",
    "\n",
    "            for alpha in [0.0, 0.1, 1.0, 10.0]:\n",
    "                # Piecewise 2 ridge regressions\n",
    "                if to_piecewise:\n",
    "                    models.append(PiecewiseModel(boundary_masker, [\n",
    "                        Model(poly_degree, to_normalize, Ridge(alpha=alpha)),\n",
    "                        Model(poly_degree, to_normalize, Ridge(alpha=alpha))\n",
    "                    ]))\n",
    "\n",
    "                # Single ridge regression\n",
    "                else:\n",
    "                    models.append(Model(poly_degree, to_normalize, Ridge(alpha=alpha)))\n",
    "\n",
    "print(f\"Produced {len(models)} models\")\n"
   ]
  },
  {
   "cell_type": "markdown",
   "metadata": {},
   "source": [
    "## Evaluation"
   ]
  },
  {
   "cell_type": "code",
   "execution_count": 91,
   "metadata": {},
   "outputs": [
    {
     "name": "stdout",
     "output_type": "stream",
     "text": [
      "--- Results ---\n",
      "Best model: Model(degree=3, normalize=True, model=Ridge, alpha=1.0)\n",
      "Best model, mean R2 KFold=5: 0.34165759223971753\n",
      "Best model, R2 over all data: 0.5441962321131696\n"
     ]
    },
    {
     "data": {
      "image/png": "[encoded data removed]",
      "text/plain": [
       "<Figure size 600x300 with 1 Axes>"
      ]
     },
     "metadata": {},
     "output_type": "display_data"
    }
   ],
   "source": [
    "# np.random.seed(1)\n",
    "kf = KFold(n_splits=5, shuffle=True)\n",
    "models_r2_kfmean = []\n",
    "models_r2_all = []\n",
    "for model in models:\n",
    "    \n",
    "    # Calculate mean R2 score over each KFold split\n",
    "    r2s = []\n",
    "    for train_idx, test_idx in kf.split(all_X):\n",
    "        model.fit(all_X[train_idx], all_y[train_idx])\n",
    "        pred_test_y = model.predict(all_X[test_idx])\n",
    "        r2s.append(r2_score(all_y[test_idx], pred_test_y))\n",
    "    models_r2_kfmean.append(np.mean(r2s))\n",
    "\n",
    "    # Calculate R2 score over all data\n",
    "    model.fit(all_X, all_y)\n",
    "    pred_all_y = model.predict(all_X)\n",
    "    models_r2_all.append(r2_score(all_y, pred_all_y))\n",
    "\n",
    "print(\"--- Results ---\")\n",
    "best_idx = np.argmax(models_r2_kfmean)\n",
    "best_model = models[best_idx]\n",
    "best_r2_mean = models_r2_kfmean[best_idx]\n",
    "best_r2_all = models_r2_all[best_idx]\n",
    "print(f\"Best model: {best_model.name}\")\n",
    "print(f\"Best model, mean R2 KFold=5: {best_r2_mean}\")\n",
    "print(f\"Best model, R2 over all data: {best_r2_all}\")\n",
    "\n",
    "plt.figure(figsize=(6, 3))\n",
    "plt.bar(range(len(models_r2_kfmean)), models_r2_kfmean)\n",
    "plt.bar(range(len(models_r2_all)), models_r2_all, alpha=0.2, color=\"red\")\n",
    "plt.xticks([])\n",
    "plt.ylim(-1, 1)\n",
    "plt.legend([\"KFold=5 Mean R2\", \"All Data R2\"])\n",
    "plt.show()\n"
   ]
  },
  {
   "cell_type": "code",
   "execution_count": 92,
   "metadata": {},
   "outputs": [
    {
     "name": "stdout",
     "output_type": "stream",
     "text": [
      "Test R2: 0.5441962321131696\n"
     ]
    }
   ],
   "source": [
    "# Train best model against full data again for prediction\n",
    "best_model.fit(all_X, all_y)\n",
    "\n",
    "# Predict best model against PADL-Q2-unseen.csv\n",
    "with open(\"PADL-Q2-unseen.csv\", \"r\") as f:\n",
    "    reader = csv.reader(f)\n",
    "    data = np.array(list(reader)[1:]).astype(float)\n",
    "test_X = data[:, :-1]\n",
    "test_y = data[:, -1]\n",
    "pred_y = best_model.predict(test_X)\n",
    "r2 = r2_score(test_y, pred_y)\n",
    "print(f\"Test R2: {r2}\")\n"
   ]
  },
  {
   "cell_type": "markdown",
   "metadata": {},
   "source": [
    "# Q3. Embeddings"
   ]
  },
  {
   "cell_type": "markdown",
   "metadata": {},
   "source": [
    "## Data Loading"
   ]
  },
  {
   "cell_type": "code",
   "execution_count": 97,
   "metadata": {},
   "outputs": [],
   "source": [
    "# Read pg48320.txt\n",
    "with open(\"pg48320.txt\", \"r\", encoding=\"utf-8\") as f:\n",
    "    text = f.read()\n"
   ]
  },
  {
   "cell_type": "markdown",
   "metadata": {},
   "source": [
    "## a. Extract Words"
   ]
  },
  {
   "cell_type": "markdown",
   "metadata": {},
   "source": [
    "**1. Clean the text.**  \n",
    "\n",
    "- Convert to lowercase.\n",
    "- Replace whitespace with spaces.\n",
    "- Remove everything else.  \n",
    "\n",
    "**2. Extract Words.**  \n",
    "\n",
    "- Find words by splitting on all spaces.\n",
    "\n",
    "**3. Extract Triplets.**\n",
    "\n",
    "- Loop over words, compare to \"the\", and adding the previous / current / next to a list."
   ]
  },
  {
   "cell_type": "code",
   "execution_count": 100,
   "metadata": {},
   "outputs": [
    {
     "name": "stdout",
     "output_type": "stream",
     "text": [
      "Found 565676 characters, 109480 words, 4570 triplets.\n"
     ]
    }
   ],
   "source": [
    "# Preprocess text\n",
    "clean_text = text.lower()\n",
    "clean_text = clean_text.replace(\"\\n\", \" \")\n",
    "clean_text = re.sub(r\"\\s+\", \" \", clean_text)\n",
    "clean_text = re.sub(r\"[^a-z\\- ]\", \"\", clean_text)\n",
    "\n",
    "# Split text into non-empty words\n",
    "words = clean_text.split(\" \")\n",
    "\n",
    "# Extract triplets where middle word is \"the\"\n",
    "triplets = set()\n",
    "for i in range(1, len(words) - 1):\n",
    "    if words[i] == \"the\":\n",
    "        triplets.add((words[i - 1], words[i], words[i + 1]))\n",
    "\n",
    "print(f\"Found {len(clean_text)} characters, {len(words)} words, {len(triplets)} triplets.\")\n"
   ]
  },
  {
   "cell_type": "markdown",
   "metadata": {},
   "source": [
    "## b. Find Matching Triplets"
   ]
  },
  {
   "cell_type": "markdown",
   "metadata": {},
   "source": [
    "For each keyword, loop over all triplets and perform the suitability check.  \n",
    "\n",
    "- Check the relevant word has 3+ characters, and then check the suffix matches.  \n",
    "\n",
    "**Note:** This would likely produce higher quality results by checking the third word in the triplet is different from the keyword.  "
   ]
  },
  {
   "cell_type": "code",
   "execution_count": 103,
   "metadata": {},
   "outputs": [
    {
     "name": "stdout",
     "output_type": "stream",
     "text": [
      "Keyword gold has 20 matching triplets\n",
      "[('by', 'the', 'old'), ('mccarthy', 'the', 'old'), ('as', 'the', 'old'), ('and', 'the', 'two-hundred-year-old'), ('in', 'the', 'old'), ('of', 'the', 'gold'), ('crossed', 'the', 'threshold'), ('into', 'the', 'manifold'), ('screamed', 'the', 'old'), ('in', 'the', 'household'), ('do', 'the', 'old'), ('in', 'the', 'cold'), ('over', 'the', 'threshold'), ('rack', 'the', 'old'), ('from', 'the', 'old'), ('to', 'the', 'old'), ('remember', 'the', 'old'), ('of', 'the', 'old'), ('with', 'the', 'gold'), ('said', 'the', 'old')]\n",
      "\n",
      "Keyword diamond has 14 matching triplets\n",
      "[('you', 'the', 'second'), ('parr', 'the', 'second'), ('return', 'the', 'second'), ('observe', 'the', 'second'), ('at', 'the', 'second'), ('snap', 'the', 'bond'), ('roylotts', 'the', 'second'), ('upon', 'the', 'second'), ('in', 'the', 'second'), ('if', 'the', 'second'), ('solder', 'the', 'second'), ('to', 'the', 'second'), ('of', 'the', 'second'), ('pondicherry', 'the', 'second')]\n",
      "\n",
      "Keyword robbery has 34 matching triplets\n",
      "[('admire', 'the', 'scenery'), ('be', 'the', 'very'), ('to', 'the', 'very'), ('of', 'the', 'very'), ('but', 'the', 'mystery'), ('discovering', 'the', 'robbery'), ('hearing', 'the', 'very'), ('is', 'the', 'very'), ('planned', 'the', 'robbery'), ('visitor', 'the', 'very'), ('of', 'the', 'robbery'), ('up', 'the', 'mystery'), ('solved', 'the', 'mystery'), ('and', 'the', 'mystery'), ('it', 'the', 'very'), ('on', 'the', 'very'), ('into', 'the', 'very'), ('solve', 'the', 'mystery'), ('bed', 'the', 'discovery'), ('that', 'the', 'mystery'), ('in', 'the', 'nursery'), ('has', 'the', 'very'), ('that', 'the', 'very'), ('of', 'the', 'machinery'), ('add', 'the', 'very'), ('are', 'the', 'very'), ('no', 'the', 'mystery'), ('upon', 'the', 'very'), ('in', 'the', 'very'), ('out', 'the', 'very'), ('alone', 'the', 'very'), ('was', 'the', 'very'), ('herself', 'the', 'very'), ('from', 'the', 'very')]\n",
      "\n",
      "Keyword bank has 8 matching triplets\n",
      "[('expect', 'the', 'bank'), ('was', 'the', 'clank'), ('at', 'the', 'bank'), ('from', 'the', 'bank'), ('of', 'the', 'bank'), ('how', 'the', 'bank'), ('upon', 'the', 'mud-bank'), ('leaves', 'the', 'bank')]\n",
      "\n",
      "Keyword police has 41 matching triplets\n",
      "[('in', 'the', 'office'), ('of', 'the', 'grice'), ('of', 'the', 'water-police'), ('let', 'the', 'police'), ('that', 'the', 'police'), ('when', 'the', 'police'), ('with', 'the', 'police'), ('for', 'the', 'police'), ('stop', 'the', 'service'), ('from', 'the', 'office'), ('if', 'the', 'police'), ('and', 'the', 'price'), ('to', 'the', 'office'), ('of', 'the', 'office'), ('matter', 'the', 'police'), ('later', 'the', 'voice'), ('with', 'the', 'ice'), ('be', 'the', 'police'), ('to', 'the', 'police'), ('moment', 'the', 'police'), ('of', 'the', 'police'), ('that', 'the', 'practice'), ('glasses', 'the', 'voice'), ('remember', 'the', 'advice'), ('said', 'the', 'police'), ('convince', 'the', 'police'), ('avoid', 'the', 'police'), ('seen', 'the', 'police'), ('all', 'the', 'police'), ('by', 'the', 'police'), ('took', 'the', 'advice'), ('of', 'the', 'price'), ('into', 'the', 'office'), ('informed', 'the', 'police'), ('spent', 'the', 'police'), ('or', 'the', 'police'), ('call', 'the', 'police'), ('leaving', 'the', 'office'), ('at', 'the', 'office'), ('in', 'the', 'police'), ('did', 'the', 'police')]\n",
      "\n"
     ]
    }
   ],
   "source": [
    "# For each keyword\n",
    "keywords = [\"gold\", \"diamond\", \"robbery\", \"bank\", \"police\"]\n",
    "keyword_triplets = []\n",
    "for keyword in keywords:\n",
    "\n",
    "    # For each triplet\n",
    "    matching_triplets = []\n",
    "    for triplet in triplets:\n",
    "        word = triplet[2]\n",
    "        \n",
    "        # Check suffixes match atleast 3 characters\n",
    "        if len(word) >= 3 and keyword[-3:] == word[-3:]:\n",
    "            matching_triplets.append(triplet)\n",
    "    \n",
    "    # Found all matching triplets\n",
    "    keyword_triplets.append(matching_triplets)\n",
    "    print(f\"Keyword {keyword} has {len(matching_triplets)} matching triplets\")\n",
    "    print(matching_triplets)\n",
    "    print(\"\")\n"
   ]
  },
  {
   "cell_type": "markdown",
   "metadata": {},
   "source": [
    "## c. Find Semantically Good Triplets"
   ]
  },
  {
   "cell_type": "markdown",
   "metadata": {},
   "source": [
    "I train a Word2Vec model on the list of words from earlier that learns word similarity.  \n",
    "Then using this, I sort the triplets for each keyword by the semantic similarity between word 1 and 3.  "
   ]
  },
  {
   "cell_type": "code",
   "execution_count": 109,
   "metadata": {},
   "outputs": [
    {
     "name": "stdout",
     "output_type": "stream",
     "text": [
      "Finding top 5 triplets for keyword 'gold'\n",
      "- (as the old) score=0.974\n",
      "- (to the old) score=0.974\n",
      "- (in the old) score=0.974\n",
      "- (of the old) score=0.974\n",
      "- (said the old) score=0.974\n",
      "\n",
      "Finding top 5 triplets for keyword 'diamond'\n",
      "- (you the second) score=0.694\n",
      "- (of the second) score=0.694\n",
      "- (upon the second) score=0.694\n",
      "- (to the second) score=0.693\n",
      "- (if the second) score=0.693\n",
      "\n",
      "Finding top 5 triplets for keyword 'robbery'\n",
      "- (to the very) score=1.000\n",
      "- (it the very) score=1.000\n",
      "- (of the very) score=1.000\n",
      "- (in the very) score=1.000\n",
      "- (is the very) score=1.000\n",
      "\n",
      "Finding top 5 triplets for keyword 'bank'\n",
      "- (leaves the bank) score=0.054\n",
      "- (expect the bank) score=0.039\n",
      "- (was the clank) score=-0.024\n",
      "- (upon the mud-bank) score=-0.056\n",
      "- (from the bank) score=-0.072\n",
      "\n",
      "Finding top 5 triplets for keyword 'police'\n",
      "- (of the office) score=0.997\n",
      "- (in the office) score=0.997\n",
      "- (to the office) score=0.997\n",
      "- (at the office) score=0.996\n",
      "- (into the office) score=0.996\n",
      "\n"
     ]
    }
   ],
   "source": [
    "# Train word2vec over all words\n",
    "model = Word2Vec([ words ], vector_size=300, window=5, min_count=1, workers=4)\n",
    "\n",
    "# For each keyword and associated triplets\n",
    "for i in range(len(keyword_triplets)):\n",
    "    print(f\"Finding top 5 triplets for keyword '{keywords[i]}'\")\n",
    "\n",
    "    # Sort triplets by similarity of word 1 and word 3\n",
    "    scored_triplets = [ (t, model.wv.similarity(t[0], t[2])) for t in keyword_triplets[i] ]\n",
    "    scored_triplets = sorted(scored_triplets, key=lambda x: x[1], reverse=True)\n",
    "    scored_triplets = scored_triplets[:5]\n",
    "\n",
    "    # Found top 5 triplets\n",
    "    for triplet, score in scored_triplets:\n",
    "        print(f\"- ({triplet[0]} {triplet[1]} {triplet[2]}) score={score:.3f}\")\n",
    "    best_triplets =  [ p[0] for p in scored_triplets ]\n",
    "    print(\"\")\n",
    "\n",
    "    # Can now do what you want with the best triplets for each keyword\n"
   ]
  },
  {
   "cell_type": "markdown",
   "metadata": {},
   "source": [
    "# Q4. Basic MLP"
   ]
  },
  {
   "cell_type": "markdown",
   "metadata": {},
   "source": [
    "## Thought Processs\n",
    "\n",
    "I am aiming training a simple MLP with (2) inputs and (1) outputs to approximate $f(x,y)\\approx x\\cdot y$.\n",
    "\n",
    "I have chosen to use mean-squared error with an Adam optimizer.\n",
    "\n",
    "### Results\n",
    "\n",
    "With a training range of (0, 1) the model learns very quickly on the dataset but does not generalise well to test data.\n",
    "\n",
    "With larger ranges (0, 10) or (0, 100), the model takes longer to minimise the loss within the same number of epochs.\n",
    "\n",
    "Raising the learning rate does not solve this as it overshoots, and therefore for larger ranges we need larger epochs.\n",
    "\n",
    "The final results show limiting the training data to (0, 10) and test data to (10, 20).  \n",
    "\n",
    "This highlights a key issue with simple MLPs that with only linear and ReLU layers the MLP has difficulty generalizing for multiplication.  \n"
   ]
  },
  {
   "cell_type": "code",
   "execution_count": 152,
   "metadata": {},
   "outputs": [],
   "source": [
    "# Define basic MLP\n",
    "class BasicMLP(nn.Module):\n",
    "    def __init__(self):\n",
    "        super(BasicMLP, self).__init__()\n",
    "        self.relu = nn.ReLU()\n",
    "        self.fc1 = nn.Linear(2, 25)\n",
    "        self.fc2 = nn.Linear(25, 25)\n",
    "        self.fc3 = nn.Linear(25, 1)\n",
    "    \n",
    "    def forward(self, x):\n",
    "        x = self.relu(self.fc1(x))\n",
    "        x = self.relu(self.fc2(x))\n",
    "        x = self.fc3(x)\n",
    "        return x\n",
    "\n",
    "def generate_data(min, max):\n",
    "    # Generate random data in given range\n",
    "    data_X = np.random.rand(1000, 2) * (max - min) + min\n",
    "    data_y = data_X[:, 0] * data_X[:, 1]\n",
    "    data_X = torch.tensor(data_X).float()\n",
    "    data_y = torch.tensor(data_y).float().reshape(-1, 1)\n",
    "    return data_X, data_y\n",
    "\n"
   ]
  },
  {
   "cell_type": "code",
   "execution_count": 164,
   "metadata": {},
   "outputs": [
    {
     "name": "stdout",
     "output_type": "stream",
     "text": [
      "Training for 2000 epochs...\n",
      "Epoch [50/2000], loss 141.29507446289062\n",
      "Epoch [100/2000], loss 21.017179489135742\n",
      "Epoch [150/2000], loss 8.609384536743164\n",
      "Epoch [200/2000], loss 4.449436664581299\n",
      "Epoch [250/2000], loss 2.4385550022125244\n",
      "Epoch [300/2000], loss 1.5430724620819092\n",
      "Epoch [350/2000], loss 1.1499525308609009\n",
      "Epoch [400/2000], loss 0.8963968753814697\n",
      "Epoch [450/2000], loss 0.7148209810256958\n",
      "Epoch [500/2000], loss 0.5973235964775085\n",
      "Epoch [550/2000], loss 0.4970451593399048\n",
      "Epoch [600/2000], loss 0.42582646012306213\n",
      "Epoch [650/2000], loss 0.35803937911987305\n",
      "Epoch [700/2000], loss 0.297707200050354\n",
      "Epoch [750/2000], loss 0.2639920711517334\n",
      "Epoch [800/2000], loss 0.2448800504207611\n",
      "Epoch [850/2000], loss 0.22611799836158752\n",
      "Epoch [900/2000], loss 0.2204548716545105\n",
      "Epoch [950/2000], loss 0.21875792741775513\n",
      "Epoch [1000/2000], loss 0.18882879614830017\n",
      "Epoch [1050/2000], loss 0.18077929317951202\n",
      "Epoch [1100/2000], loss 0.17369285225868225\n",
      "Epoch [1150/2000], loss 0.16948184370994568\n",
      "Epoch [1200/2000], loss 0.16284188628196716\n",
      "Epoch [1250/2000], loss 0.15821543335914612\n",
      "Epoch [1300/2000], loss 0.1647501140832901\n",
      "Epoch [1350/2000], loss 0.1478753536939621\n",
      "Epoch [1400/2000], loss 0.14579983055591583\n",
      "Epoch [1450/2000], loss 0.15120550990104675\n",
      "Epoch [1500/2000], loss 0.13501578569412231\n",
      "Epoch [1550/2000], loss 0.1376079022884369\n",
      "Epoch [1600/2000], loss 0.12178695946931839\n",
      "Epoch [1650/2000], loss 0.11621863394975662\n",
      "Epoch [1700/2000], loss 0.11188195645809174\n",
      "Epoch [1750/2000], loss 0.10632966458797455\n",
      "Epoch [1800/2000], loss 0.20081599056720734\n",
      "Epoch [1850/2000], loss 0.09878452122211456\n",
      "Epoch [1900/2000], loss 0.09451425075531006\n",
      "Epoch [1950/2000], loss 0.09216462820768356\n",
      "Epoch [2000/2000], loss 0.09004643559455872\n",
      "Training done.\n"
     ]
    }
   ],
   "source": [
    "# Setup training and test data\n",
    "train_X, train_y = generate_data(0, 5)\n",
    "test_X, test_y = generate_data(5, 10)\n",
    "max_epoch = 1000\n",
    "lr = 0.01\n",
    "\n",
    "# Training loop for basic MLP\n",
    "model = BasicMLP()\n",
    "criterion = nn.MSELoss()\n",
    "optimizer = optim.Adam(model.parameters(), lr=lr)\n",
    "\n",
    "print(f\"Training for {max_epoch} epochs...\")\n",
    "for epoch in range(max_epoch):\n",
    "    optimizer.zero_grad()\n",
    "    train_y_pred = model(train_X)\n",
    "    loss = criterion(train_y_pred, train_y)\n",
    "    loss.backward()\n",
    "    optimizer.step()\n",
    "\n",
    "    if (epoch + 1) % 50 == 0:\n",
    "        print(f\"Epoch [{epoch + 1}/{max_epoch}], loss {loss.item()}\")\n",
    "print(\"Training done.\")\n"
   ]
  },
  {
   "cell_type": "code",
   "execution_count": 163,
   "metadata": {},
   "outputs": [
    {
     "name": "stdout",
     "output_type": "stream",
     "text": [
      "Evaluating model:\n",
      "Sample loss: 0.1735588163137436\n",
      "Test loss: 50.95343017578125\n"
     ]
    }
   ],
   "source": [
    "print(\"Evaluating model:\")\n",
    "\n",
    "# Evaluate against a random sample of 5 from training data\n",
    "indices = np.random.choice(train_X.shape[0], 5, replace=False)\n",
    "sample_X = train_X[indices]\n",
    "sample_y = train_y[indices]\n",
    "sample_y_pred = model(sample_X)\n",
    "sample_loss = torch.abs(sample_y_pred - sample_y).mean()\n",
    "print(f\"Sample loss: {sample_loss.item()}\")\n",
    "\n",
    "# Evaluate against all of the test data\n",
    "test_y_pred = model(test_X)\n",
    "test_loss = torch.abs(test_y_pred - test_y).mean()\n",
    "print(f\"Test loss: {test_loss.item()}\")\n"
   ]
  },
  {
   "cell_type": "markdown",
   "metadata": {},
   "source": [
    "# Q5. Telling the Time"
   ]
  },
  {
   "cell_type": "markdown",
   "metadata": {},
   "source": [
    "## Justification"
   ]
  },
  {
   "cell_type": "markdown",
   "metadata": {},
   "source": [
    "### Architecture Reasoning\n",
    "\n",
    "For clock face recognition I have chosen to use a Convolutional Neural Network trained as a classifier.\n",
    "\n",
    "Convolutional layers retain spatial information and therefore allow network the network to learn specific features (e.g. clock hands, edges) from the images. These then feed into linear layers, which extract spatially-unaware more general facts about the image.\n",
    " \n",
    "Classification means it takes in a tensor of an image, and outputs probabilities of 720 classes representing each possible minute in the 12 hour time range.\n",
    "\n",
    "Classification was used to constrain the output of the network to just the outputs we know we have, and therefore effectively constrain the network to only learning within the bounds of the real solution.\n",
    "\n",
    "A regression problem would produce decimal values which we would have to manually constrain with some sigmoidy function.  \n",
    "\n",
    "A key reason against this is the network would need to learn to only use integers despite being capable of the full range of floating points.\n",
    "\n",
    "With the more defined goal of classification I can then use softmax with cross entropy loss which is proven to work effectively for a classification problem, and the count of 720 classes is not too much to prevent it training.  \n",
    "\n",
    "\n",
    "### Pre-Processing\n",
    "\n",
    "Due to training the model as classification, and the problem definition requiring hours:minutes, I need a set of processing functions.  \n",
    "\n",
    "I define `label_to_onehot()` and `onehot_to_label()` to convert between (hours, minutes) and one-hot of length (720) representations.  \n",
    "\n",
    "These 2 representations are then for loss functions for training and validation respectedly.\n",
    "\n",
    "### Training Loss\n",
    "\n",
    "\n",
    "The overall goal is to optimize the median minute difference which during training I evaluate on the validation dataset with the time pair representation.  \n",
    "\n",
    "For training however I use the onehot representation so I can use cross entropy to train on classification.  \n",
    "\n",
    "To implement the median algorithm I convert the (hours, minutes) to a flat number of minutes through the day (e.g. 0 - 720), then calculate the absolute difference.  \n",
    "\n",
    "I then also find the min of this value with its counterpart `720 - diff` to accomodate for the circular nature of time.  \n",
    "\n",
    "- e.g. with 2 times `(11, 58)=718` and `(0, 5)=5` we want a difference of `7` not `713`\n",
    "\n",
    "### Results\n",
    "\n",
    "Looking at the final graphs of training cross entropy loss, validation loss, and validation accuracy, the model converges after approximately 20 epochs with training rate of 0.001 with Adam optimizer.\n",
    "\n",
    "The final saved model was trained across 50 epochs to allow the training cross entropy loss to plateau, however the validation loss achieved a median of 0 minutes within 5 epochs. The model was not slow to train (completing in a few minutes) and nor did it overfit the training data so no harm was seen in doing 50 epochs."
   ]
  },
  {
   "cell_type": "markdown",
   "metadata": {},
   "source": [
    "## Extracting Data"
   ]
  },
  {
   "cell_type": "code",
   "execution_count": 15,
   "metadata": {},
   "outputs": [],
   "source": [
    "def preprocess_images(images):\n",
    "    # Input images is (Bx3x448x448) in float range [0..1]\n",
    "    # Resize to (Bx3x224x224) with interpolation\n",
    "    images = torch.nn.functional.interpolate(images, size=224, mode=\"bilinear\")\n",
    "    # Greyscale (Bx3x224x224) to (Bx1x224x224) with mean\n",
    "    images = torch.mean(images, dim=1, keepdim=True)\n",
    "    return images\n",
    "\n",
    "def label_to_onehot(label):\n",
    "    # Input label is (Bx2) in range [0..12, 0..59]\n",
    "    # Convert to onehot (Bx720)\n",
    "    onehot = torch.zeros(label.shape[0], 720)\n",
    "    onehot[:, label[:, 0] * 60 + label[:, 1]] = 1\n",
    "    return onehot\n",
    "\n",
    "def onehot_to_label(onehot):\n",
    "    # Input onehot is (Bx720)\n",
    "    # Convert to label (Bx2)\n",
    "    label = torch.argmax(onehot, dim=1)\n",
    "    return torch.stack([label // 60, label % 60], dim=1)\n"
   ]
  },
  {
   "cell_type": "code",
   "execution_count": 18,
   "metadata": {},
   "outputs": [],
   "source": [
    "# Images stored in clocks_dataset/train/0000.png - 9999.png as (448x448) RGB images\n",
    "# Labels stored in clocks_dataset/train/0000.txt - 9999.txt as \"HH:MM\" strings\n",
    "# Output N images tensors size (3x448x448) in float range [0..1]\n",
    "# Output N labels tensors size (720) as one-hot encoding of [H, M]\n",
    "class ClockDataset1(torch.utils.data.Dataset):\n",
    "    def __init__(self):\n",
    "        self.images = []\n",
    "        self.labels = []\n",
    "\n",
    "        # Load all images and labels from files\n",
    "        to_load = 10000\n",
    "        for i in range(to_load):\n",
    "            # Read from PNG to (3x448x448) tensor in range [0, 1]\n",
    "            image = torchio.read_image(f\"clocks_dataset/train/{i:04d}.png\") / 255\n",
    "            image = preprocess_images(image.unsqueeze(0)).squeeze(0)\n",
    "            self.images.append(image)\n",
    "\n",
    "            # Read from \"HH:MM\" string to (2) tensor as [H, M]\n",
    "            label = open(f\"clocks_dataset/train/{i:04d}.txt\", \"r\").read().strip() \n",
    "            label = torch.tensor([int(x) for x in label.split(\":\")], dtype=torch.int)\n",
    "            label = label_to_onehot(label.unsqueeze(0)).squeeze(0)\n",
    "            self.labels.append(label)\n",
    "\n",
    "            if (i + 1) % 200 == 0:\n",
    "                progress_bar = \"=\" * ((i + 1) // 200) + \" \" * ((to_load - i - 1) // 200)\n",
    "                print(f\"\\rLoading images [{progress_bar}] {i + 1}/{to_load}\", end=\"\")\n",
    "\n",
    "\n",
    "        print(\"\")\n",
    "        \n",
    "    def __len__(self):\n",
    "        return len(self.labels)\n",
    "    \n",
    "    def __getitem__(self, idx):\n",
    "        return self.images[idx], self.labels[idx]\n"
   ]
  },
  {
   "cell_type": "code",
   "execution_count": 4,
   "metadata": {},
   "outputs": [
    {
     "name": "stdout",
     "output_type": "stream",
     "text": [
      "Loading images [==================================================] 10000/10000\n",
      "\n",
      "Loaded Clock Dataset\n",
      "\n",
      "- Training Size: 8500\n",
      "- Validation Size: 1500\n",
      "- Training Batch Size: 100\n",
      "- Training Batches: 85\n",
      "- Training Batch Image Shape: torch.Size([1, 224, 224])\n",
      "- Training Batch Label Shape: torch.Size([720])\n"
     ]
    },
    {
     "data": {
      "image/png": "[encoded data removed]",
      "text/plain": [
       "<Figure size 300x300 with 6 Axes>"
      ]
     },
     "metadata": {},
     "output_type": "display_data"
    }
   ],
   "source": [
    "# Load dataset, split into train / validate, create dataloaders\n",
    "clock_dataset = ClockDataset1()\n",
    "train_size = int(0.85 * len(clock_dataset))\n",
    "validation_size = len(clock_dataset) - train_size\n",
    "train_dataset, validation_dataset = torch.utils.data.random_split(clock_dataset, [train_size, validation_size])\n",
    "batch_size = 100\n",
    "train_loader = torch.utils.data.DataLoader(train_dataset, batch_size=batch_size, shuffle=True)\n",
    "validation_loader = torch.utils.data.DataLoader(validation_dataset, batch_size=batch_size, shuffle=False)\n",
    "\n",
    "# Print overview of dataset\n",
    "print(\"\\nLoaded Clock Dataset\\n\")\n",
    "print(f\"- Training Size: {len(train_dataset)}\")\n",
    "print(f\"- Validation Size: {len(validation_dataset)}\")\n",
    "print(f\"- Training Batch Size: {batch_size}\")\n",
    "print(f\"- Training Batches: {len(train_loader)}\")\n",
    "image, label = train_dataset[0]\n",
    "print(f\"- Training Batch Image Shape: {image.shape}\")\n",
    "print(f\"- Training Batch Label Shape: {label.shape}\")\n",
    "\n",
    "# Visualise the first 6 images and labels\n",
    "plt.figure(figsize=(3, 3))\n",
    "for i in range(6):\n",
    "    image, label = train_dataset[i]\n",
    "    plt.subplot(2, 3, i + 1)\n",
    "    image = image.squeeze(0).numpy()\n",
    "    label = onehot_to_label(label.unsqueeze(0)).squeeze(0)\n",
    "    plt.imshow(image, cmap=\"gray\")\n",
    "    plt.title(f\"{int(label[0]):02d}:{int(label[1]):02d}\")\n",
    "    plt.axis(\"off\")\n",
    "plt.tight_layout()\n",
    "plt.show()\n"
   ]
  },
  {
   "cell_type": "markdown",
   "metadata": {},
   "source": [
    "## Model and Training"
   ]
  },
  {
   "cell_type": "code",
   "execution_count": 8,
   "metadata": {},
   "outputs": [
    {
     "name": "stdout",
     "output_type": "stream",
     "text": [
      "Using device: cuda\n"
     ]
    }
   ],
   "source": [
    "# Set device to GPU if available\n",
    "device = torch.device(\"cuda\" if torch.cuda.is_available() else \"cpu\")\n",
    "print(\"Using device:\", device)\n"
   ]
  },
  {
   "cell_type": "code",
   "execution_count": 9,
   "metadata": {},
   "outputs": [],
   "source": [
    "# CNN for clock face classification\n",
    "# - Input is (Bx1x224x224) greyscale images\n",
    "# - Output is (Bx720) classes for each minute of the day\n",
    "class ClockClassificationCNN(nn.Module):\n",
    "    def __init__(self):\n",
    "        super(ClockClassificationCNN, self).__init__()\n",
    "        self.net = nn.Sequential(\n",
    "            # Bx1x224x224 -> Bx16x112x112\n",
    "            nn.Conv2d(1, 16, kernel_size=3, stride=1, padding=1),\n",
    "            nn.ReLU(),\n",
    "            nn.MaxPool2d(kernel_size=2),\n",
    "            # Bx16x112x112 -> Bx32x56x56\n",
    "            nn.Conv2d(16, 32, kernel_size=3, stride=1, padding=1),\n",
    "            nn.ReLU(),\n",
    "            nn.MaxPool2d(kernel_size=2),\n",
    "            # Bx32x56x56 -> Bx48x28x28\n",
    "            nn.Conv2d(32, 48, kernel_size=3, stride=1, padding=1),\n",
    "            nn.ReLU(),\n",
    "            nn.MaxPool2d(kernel_size=2),\n",
    "            nn.Flatten(),\n",
    "            # Bx(48x28x28) -> Bx(12x60)\n",
    "            nn.Linear(48 * 28 * 28, 128),\n",
    "            nn.ReLU(),\n",
    "            nn.Linear(128, 12 * 60)\n",
    "        )\n",
    "\n",
    "    def forward(self, x):\n",
    "        return self.net(x)\n",
    "\n",
    "def criterion_eval(pred_y, real_y):\n",
    "    # Input tensor shape: (B x 2)\n",
    "    # Convert (hours, minutes) to minutes, calc diff wrapped around 12 hours\n",
    "    pred_mins = pred_y[:, 0] * 60 + pred_y[:, 1]\n",
    "    real_mins = real_y[:, 0] * 60 + real_y[:, 1]\n",
    "    diff = torch.abs(pred_mins - real_mins)\n",
    "    diff = torch.min(diff, 12 * 60 - diff)\n",
    "    return torch.median(diff)\n",
    "\n",
    "def criterion_train(pred_y, real_y):\n",
    "    # Input tensor shape: (B x 720)\n",
    "    # Softmax cross entropy loss for onehot labels\n",
    "    return nn.CrossEntropyLoss()(pred_y, real_y)\n"
   ]
  },
  {
   "cell_type": "code",
   "execution_count": 10,
   "metadata": {},
   "outputs": [],
   "source": [
    "# Load new model and optimizer\n",
    "model = ClockClassificationCNN()\n",
    "optimizer = optim.Adam(model.parameters(), lr=0.001)\n"
   ]
  },
  {
   "cell_type": "code",
   "execution_count": 11,
   "metadata": {},
   "outputs": [
    {
     "name": "stdout",
     "output_type": "stream",
     "text": [
      "Training for 50 epochs with 85 training batches...\n",
      "Epoch [1/50], training loss 6.583, validation loss 179.000, validation accuracy 0.001\n",
      "Epoch [2/50], training loss 6.573, validation loss 174.000, validation accuracy 0.004\n",
      "Epoch [3/50], training loss 6.101, validation loss 60.000, validation accuracy 0.096\n",
      "Epoch [4/50], training loss 3.468, validation loss 1.000, validation accuracy 0.309\n",
      "Epoch [5/50], training loss 1.968, validation loss 1.000, validation accuracy 0.419\n",
      "Epoch [6/50], training loss 1.350, validation loss 1.000, validation accuracy 0.481\n",
      "Epoch [7/50], training loss 1.020, validation loss 0.000, validation accuracy 0.507\n",
      "Epoch [8/50], training loss 0.749, validation loss 0.000, validation accuracy 0.521\n",
      "Epoch [9/50], training loss 0.581, validation loss 0.000, validation accuracy 0.553\n",
      "Epoch [10/50], training loss 0.441, validation loss 0.000, validation accuracy 0.537\n",
      "Epoch [11/50], training loss 0.311, validation loss 0.000, validation accuracy 0.539\n",
      "Epoch [12/50], training loss 0.267, validation loss 0.000, validation accuracy 0.546\n",
      "Epoch [13/50], training loss 0.203, validation loss 0.000, validation accuracy 0.559\n",
      "Epoch [14/50], training loss 0.160, validation loss 0.000, validation accuracy 0.549\n",
      "Epoch [15/50], training loss 0.142, validation loss 0.000, validation accuracy 0.536\n",
      "Epoch [16/50], training loss 0.134, validation loss 0.000, validation accuracy 0.542\n",
      "Epoch [17/50], training loss 0.123, validation loss 0.000, validation accuracy 0.553\n",
      "Epoch [18/50], training loss 0.091, validation loss 0.000, validation accuracy 0.544\n",
      "Epoch [19/50], training loss 0.077, validation loss 0.000, validation accuracy 0.543\n",
      "Epoch [20/50], training loss 0.062, validation loss 0.000, validation accuracy 0.537\n",
      "Epoch [21/50], training loss 0.069, validation loss 0.000, validation accuracy 0.543\n",
      "Epoch [22/50], training loss 0.099, validation loss 0.000, validation accuracy 0.537\n",
      "Epoch [23/50], training loss 0.067, validation loss 0.000, validation accuracy 0.539\n",
      "Epoch [24/50], training loss 0.055, validation loss 0.000, validation accuracy 0.547\n",
      "Epoch [25/50], training loss 0.043, validation loss 0.000, validation accuracy 0.547\n",
      "Epoch [26/50], training loss 0.059, validation loss 0.000, validation accuracy 0.547\n",
      "Epoch [27/50], training loss 0.052, validation loss 0.000, validation accuracy 0.550\n",
      "Epoch [28/50], training loss 0.071, validation loss 0.000, validation accuracy 0.548\n",
      "Epoch [29/50], training loss 0.062, validation loss 0.000, validation accuracy 0.551\n",
      "Epoch [30/50], training loss 0.052, validation loss 0.000, validation accuracy 0.548\n",
      "Epoch [31/50], training loss 0.045, validation loss 0.000, validation accuracy 0.555\n",
      "Epoch [32/50], training loss 0.045, validation loss 0.000, validation accuracy 0.561\n",
      "Epoch [33/50], training loss 0.061, validation loss 0.000, validation accuracy 0.557\n",
      "Epoch [34/50], training loss 0.038, validation loss 0.000, validation accuracy 0.569\n",
      "Epoch [35/50], training loss 0.047, validation loss 0.000, validation accuracy 0.557\n",
      "Epoch [36/50], training loss 0.043, validation loss 0.000, validation accuracy 0.567\n",
      "Epoch [37/50], training loss 0.031, validation loss 0.000, validation accuracy 0.544\n",
      "Epoch [38/50], training loss 0.034, validation loss 0.000, validation accuracy 0.564\n",
      "Epoch [39/50], training loss 0.019, validation loss 0.000, validation accuracy 0.567\n",
      "Epoch [40/50], training loss 0.016, validation loss 0.000, validation accuracy 0.574\n",
      "Epoch [41/50], training loss 0.010, validation loss 0.000, validation accuracy 0.571\n",
      "Epoch [42/50], training loss 0.007, validation loss 0.000, validation accuracy 0.559\n",
      "Epoch [43/50], training loss 0.005, validation loss 0.000, validation accuracy 0.559\n",
      "Epoch [44/50], training loss 0.005, validation loss 0.000, validation accuracy 0.561\n",
      "Epoch [45/50], training loss 0.012, validation loss 0.000, validation accuracy 0.568\n",
      "Epoch [46/50], training loss 0.027, validation loss 0.000, validation accuracy 0.536\n",
      "Epoch [47/50], training loss 0.112, validation loss 0.000, validation accuracy 0.527\n",
      "Epoch [48/50], training loss 0.131, validation loss 0.000, validation accuracy 0.535\n",
      "Epoch [49/50], training loss 0.066, validation loss 0.000, validation accuracy 0.559\n",
      "Epoch [50/50], training loss 0.055, validation loss 0.000, validation accuracy 0.548\n",
      "Training finished.\n"
     ]
    }
   ],
   "source": [
    "# Training loop for clock classification\n",
    "model.to(device)\n",
    "model.train()\n",
    "max_epoch = 50\n",
    "max_training_batch = len(train_loader)\n",
    "epoch_train_losses = []\n",
    "epoch_validation_losses = []\n",
    "epoch_validation_accuracies = []\n",
    "print(f\"Training for {max_epoch} epochs with {max_training_batch} training batches...\")\n",
    "for epoch in range(max_epoch):\n",
    "\n",
    "    # Train against training dataset\n",
    "    batch_epoch_train_losses = []\n",
    "    for i, (images, real_y) in enumerate(train_loader):\n",
    "        optimizer.zero_grad()\n",
    "        images = images.to(device)\n",
    "        real_y = real_y.to(device)\n",
    "        pred_y = model(images)\n",
    "        loss = criterion_train(pred_y, real_y)\n",
    "        loss.backward()\n",
    "        optimizer.step()\n",
    "        batch_epoch_train_losses.append(loss.item())\n",
    "        if (i + 1) % 5 == 0:\n",
    "            print(f\"Epoch [{epoch+1}/{max_epoch}], batch [{(i + 1)}/{max_training_batch}], training loss {(loss.item()):.3f}\", end=\"\\r\")\n",
    "    epoch_training_loss = np.mean(batch_epoch_train_losses)\n",
    "    epoch_train_losses.append(epoch_training_loss)\n",
    "\n",
    "    # Accumulate results against validation dataset and calculate loss\n",
    "    model.eval()\n",
    "    with torch.no_grad():\n",
    "        all_real_y = []\n",
    "        all_pred_y = []\n",
    "        for images, real_y in validation_loader:\n",
    "            images = images.to(device)\n",
    "            pred_y = model(images).cpu()\n",
    "            all_real_y.append(onehot_to_label(real_y))\n",
    "            all_pred_y.append(onehot_to_label(pred_y))\n",
    "        epoch_validation_loss = criterion_eval(torch.cat(all_pred_y), torch.cat(all_real_y)).item()\n",
    "        accuracy_correct = (torch.cat(all_real_y) == torch.cat(all_pred_y)).all(dim=1).sum().item()\n",
    "        accuracy_total = len(torch.cat(all_real_y))\n",
    "        epoch_validation_accuracy = accuracy_correct / accuracy_total\n",
    "        epoch_validation_losses.append(epoch_validation_loss)\n",
    "        epoch_validation_accuracies.append(epoch_validation_accuracy)\n",
    "    model.train()\n",
    "\n",
    "    # Calculate mean loss for epoch and output\n",
    "    print(f\"Epoch [{epoch+1}/{max_epoch}], training loss {(epoch_training_loss):.3f}, validation loss {(epoch_validation_loss):.3f}, validation accuracy {(epoch_validation_accuracy):.3f}\")\n",
    "\n",
    "print(\"Training finished.\")\n"
   ]
  },
  {
   "cell_type": "code",
   "execution_count": 12,
   "metadata": {},
   "outputs": [
    {
     "data": {
      "image/png": "[encoded data removed]",
      "text/plain": [
       "<Figure size 1000x250 with 3 Axes>"
      ]
     },
     "metadata": {},
     "output_type": "display_data"
    }
   ],
   "source": [
    "# Plot training and validation losses on adjacent graphs\n",
    "fig, ax = plt.subplots(1, 3, figsize=(10, 2.5))\n",
    "\n",
    "ax[0].plot(epoch_train_losses)\n",
    "ax[0].set_title(\"Training Loss\")\n",
    "ax[0].set_xticks(range(0, max_epoch, 4))\n",
    "ax[0].set_xlabel(\"Epoch\")\n",
    "\n",
    "ax[1].plot(epoch_validation_losses)\n",
    "ax[1].set_title(\"Validation Loss\")\n",
    "ax[1].set_xticks(range(0, max_epoch, 4))\n",
    "ax[1].set_xlabel(\"Epoch\")\n",
    "\n",
    "# Plot validation accuracy\n",
    "ax[2].plot(epoch_validation_accuracies)\n",
    "ax[2].set_title(\"Validation Accuracy\")\n",
    "ax[2].set_xticks(range(0, max_epoch, 4))\n",
    "ax[2].set_xlabel(\"Epoch\")\n",
    "\n",
    "plt.tight_layout()\n",
    "plt.show()\n"
   ]
  },
  {
   "cell_type": "code",
   "execution_count": 13,
   "metadata": {},
   "outputs": [
    {
     "name": "stdout",
     "output_type": "stream",
     "text": [
      "Final Validation Loss: 0\n",
      "Final Validation Accuracy: 0.548\n"
     ]
    },
    {
     "data": {
      "image/png": "[encoded data removed]",
      "text/plain": [
       "<Figure size 300x300 with 6 Axes>"
      ]
     },
     "metadata": {},
     "output_type": "display_data"
    }
   ],
   "source": [
    "model.to(device)\n",
    "model.eval()\n",
    "with torch.no_grad():\n",
    "\n",
    "    # Predict each image seperately and accumulate results\n",
    "    all_real_y = []\n",
    "    all_pred_y = []\n",
    "    for images, real_y in validation_loader:\n",
    "        images = images.to(device)\n",
    "        pred_y = model(images).cpu()\n",
    "        all_real_y.append(onehot_to_label(real_y))\n",
    "        all_pred_y.append(onehot_to_label(pred_y))\n",
    "\n",
    "    # Find final validation loss and accuracy across all images\n",
    "    final_validation_loss = criterion_eval(torch.cat(all_pred_y), torch.cat(all_real_y)).item()\n",
    "    correct = (torch.cat(all_real_y) == torch.cat(all_pred_y)).all(dim=1).sum().item()\n",
    "    total = len(torch.cat(all_real_y))\n",
    "    accuracy = correct / total\n",
    "\n",
    "print(f\"Final Validation Loss: {final_validation_loss}\")\n",
    "print(f\"Final Validation Accuracy: {accuracy:.3f}\")\n",
    "\n",
    "# Visualise the first 6 images, show predicted vs real labels\n",
    "plt.figure(figsize=(3, 3))\n",
    "plt.rc(\"font\", size=6)\n",
    "for i in range(6):\n",
    "    image, real_y = validation_dataset[i]\n",
    "    image = image.to(device)\n",
    "    pred_y = onehot_to_label(model(image.unsqueeze(0))).cpu().numpy()\n",
    "    real_y = onehot_to_label(real_y.unsqueeze(0)).cpu().numpy()\n",
    "    image = image.squeeze(0).squeeze(0).cpu().numpy()\n",
    "    plt.subplot(2, 3, i + 1)\n",
    "    plt.imshow(image, cmap=\"gray\")\n",
    "    plt.title(f\"Pred: {int(pred_y[0,0]):02d}:{int(pred_y[0,1]):02d}\\nReal: {int(real_y[0,0]):02d}:{int(real_y[0,1]):02d}\")\n",
    "    plt.axis(\"off\")\n",
    "plt.tight_layout()\n",
    "plt.show()\n"
   ]
  },
  {
   "cell_type": "markdown",
   "metadata": {},
   "source": [
    "## Utility"
   ]
  },
  {
   "cell_type": "code",
   "execution_count": 14,
   "metadata": {},
   "outputs": [],
   "source": [
    "# Save weights to file\n",
    "torch.save(model.state_dict(), \"clock_model.pt\")\n"
   ]
  },
  {
   "cell_type": "code",
   "execution_count": null,
   "metadata": {},
   "outputs": [
    {
     "data": {
      "text/plain": [
       "<All keys matched successfully>"
      ]
     },
     "execution_count": 28,
     "metadata": {},
     "output_type": "execute_result"
    }
   ],
   "source": [
    "# Load model from file\n",
    "model = ClockClassificationCNN()\n",
    "model.load_state_dict(torch.load(\"clock_model.pt\"))\n"
   ]
  },
  {
   "cell_type": "markdown",
   "metadata": {},
   "source": [
    "# Q6. Generative"
   ]
  },
  {
   "cell_type": "markdown",
   "metadata": {},
   "source": [
    "The dataloader works as above in Q5, loading the images into tensors of reasonable shape."
   ]
  },
  {
   "cell_type": "code",
   "execution_count": 25,
   "metadata": {},
   "outputs": [],
   "source": [
    "# Images stored in clocks_dataset/train/0000.png - 9999.png as (448x448) RGB images\n",
    "# Labels stored in clocks_dataset/train/0000.txt - 9999.txt as \"HH:MM\" strings\n",
    "# Output N images tensors size (3x448x448) in float range [0..1]\n",
    "class ClockDataset2(torch.utils.data.Dataset):\n",
    "    def __init__(self):\n",
    "        self.images = []\n",
    "\n",
    "        # Load all images and labels from files\n",
    "        to_load = 10000\n",
    "        for i in range(to_load):\n",
    "            # Read from PNG to (3x448x448) tensor in range [0, 1]\n",
    "            image = torchio.read_image(f\"clocks_dataset/train/{i:04d}.png\") / 255\n",
    "            image = preprocess_images(image.unsqueeze(0)).squeeze(0)\n",
    "            self.images.append(image)\n",
    "\n",
    "            if (i + 1) % 200 == 0:\n",
    "                progress_bar = \"=\" * ((i + 1) // 200) + \" \" * ((to_load - i - 1) // 200)\n",
    "                print(f\"\\rLoading images [{progress_bar}] {i + 1}/{to_load}\", end=\"\")\n",
    "\n",
    "        print(\"\")\n",
    "        \n",
    "    def __len__(self):\n",
    "        return len(self.labels)\n",
    "    \n",
    "    def __getitem__(self, idx):\n",
    "        return self.images[idx]\n"
   ]
  },
  {
   "cell_type": "code",
   "execution_count": 31,
   "metadata": {},
   "outputs": [
    {
     "name": "stdout",
     "output_type": "stream",
     "text": [
      "Loading images [==================================================] 10000/10000\n",
      "\n",
      "Loaded Clock Dataset\n",
      "\n",
      "- Dataset Size: 10000\n",
      "- Data Batches: 100\n"
     ]
    },
    {
     "ename": "ValueError",
     "evalue": "too many values to unpack (expected 1)",
     "output_type": "error",
     "traceback": [
      "\u001b[1;31m---------------------------------------------------------------------------\u001b[0m",
      "\u001b[1;31mValueError\u001b[0m                                Traceback (most recent call last)",
      "Cell \u001b[1;32mIn[31], line 9\u001b[0m\n\u001b[0;32m      7\u001b[0m \u001b[38;5;28mprint\u001b[39m(\u001b[38;5;124mf\u001b[39m\u001b[38;5;124m\"\u001b[39m\u001b[38;5;124m- Dataset Size: \u001b[39m\u001b[38;5;132;01m{\u001b[39;00m\u001b[38;5;28mlen\u001b[39m(clock_dataset)\u001b[38;5;132;01m}\u001b[39;00m\u001b[38;5;124m\"\u001b[39m)\n\u001b[0;32m      8\u001b[0m \u001b[38;5;28mprint\u001b[39m(\u001b[38;5;124mf\u001b[39m\u001b[38;5;124m\"\u001b[39m\u001b[38;5;124m- Data Batches: \u001b[39m\u001b[38;5;132;01m{\u001b[39;00m\u001b[38;5;28mlen\u001b[39m(data_loader)\u001b[38;5;132;01m}\u001b[39;00m\u001b[38;5;124m\"\u001b[39m)\n\u001b[1;32m----> 9\u001b[0m image, \u001b[38;5;241m=\u001b[39m train_dataset[\u001b[38;5;241m0\u001b[39m]\n\u001b[0;32m     10\u001b[0m \u001b[38;5;28mprint\u001b[39m(\u001b[38;5;124mf\u001b[39m\u001b[38;5;124m\"\u001b[39m\u001b[38;5;124m- Batch Image Shape: \u001b[39m\u001b[38;5;132;01m{\u001b[39;00mimage\u001b[38;5;241m.\u001b[39mshape\u001b[38;5;132;01m}\u001b[39;00m\u001b[38;5;124m\"\u001b[39m)\n\u001b[0;32m     12\u001b[0m \u001b[38;5;66;03m# Visualise the first 6 images and labels\u001b[39;00m\n",
      "\u001b[1;31mValueError\u001b[0m: too many values to unpack (expected 1)"
     ]
    }
   ],
   "source": [
    "# Load dataset, create dataloader\n",
    "clock_dataset = ClockDataset1()\n",
    "data_loader = torch.utils.data.DataLoader(clock_dataset, batch_size=100, shuffle=True)\n",
    "\n",
    "# Print overview of dataset\n",
    "print(\"\\nLoaded Clock Dataset\\n\")\n",
    "print(f\"- Dataset Size: {len(clock_dataset)}\")\n",
    "print(f\"- Data Batches: {len(data_loader)}\")\n",
    "image, = train_dataset[0]\n",
    "print(f\"- Batch Image Shape: {image.shape}\")\n",
    "\n",
    "# Visualise the first 6 images and labels\n",
    "plt.figure(figsize=(3, 3))\n",
    "for i in range(6):\n",
    "    image, = train_dataset[i]\n",
    "    plt.subplot(2, 3, i + 1)\n",
    "    image = image.squeeze(0).numpy()\n",
    "    plt.imshow(image, cmap=\"gray\")\n",
    "    plt.title(f\"{int(label[0]):02d}\")\n",
    "    plt.axis(\"off\")\n",
    "plt.tight_layout()\n",
    "plt.show()\n"
   ]
  },
  {
   "cell_type": "code",
   "execution_count": 28,
   "metadata": {},
   "outputs": [
    {
     "name": "stdout",
     "output_type": "stream",
     "text": [
      "tensor([[[0.5046, 0.5046, 0.5046,  ..., 0.5046, 0.5046, 0.5046],\n",
      "         [0.5046, 0.5046, 0.5046,  ..., 0.5046, 0.5046, 0.5046],\n",
      "         [0.5046, 0.5046, 0.5046,  ..., 0.5046, 0.5046, 0.5046],\n",
      "         ...,\n",
      "         [0.5046, 0.5046, 0.5046,  ..., 0.5046, 0.5046, 0.5046],\n",
      "         [0.5046, 0.5046, 0.5046,  ..., 0.5046, 0.5046, 0.5046],\n",
      "         [0.5046, 0.5046, 0.5046,  ..., 0.5046, 0.5046, 0.5046]]])\n"
     ]
    }
   ],
   "source": [
    "print(train_dataset[0][0])"
   ]
  }
 ],
 "metadata": {
  "kernelspec": {
   "display_name": "Python 3",
   "language": "python",
   "name": "python3"
  },
  "language_info": {
   "codemirror_mode": {
    "name": "ipython",
    "version": 3
   },
   "file_extension": ".py",
   "mimetype": "text/x-python",
   "name": "python",
   "nbconvert_exporter": "python",
   "pygments_lexer": "ipython3",
   "version": "3.11.1"
  }
 },
 "nbformat": 4,
 "nbformat_minor": 2
}
