{
 "cells": [
  {
   "cell_type": "code",
   "execution_count": 1,
   "metadata": {},
   "outputs": [],
   "source": [
    "import csv\n",
    "import numpy as np\n",
    "import matplotlib.pyplot as plt\n"
   ]
  },
  {
   "cell_type": "markdown",
   "metadata": {},
   "source": [
    "# Q1. PCA"
   ]
  },
  {
   "cell_type": "code",
   "execution_count": 2,
   "metadata": {},
   "outputs": [
    {
     "name": "stdout",
     "output_type": "stream",
     "text": [
      "--- Data ---\n",
      "['x1', 'x2', 'x3', 'x4', 'x5']\n",
      "[[ 0.91890765  3.18388059 -0.08010414  9.3159354   5.2941181 ]\n",
      " [-2.46848262  1.69499138 -1.762808    7.91247192  2.4641442 ]\n",
      " [-0.86661073 -0.02815577  4.8980317  11.77602453 -4.4810839 ]\n",
      " [ 0.15403261  2.63287823 -2.36163801  3.26223239  4.0097756 ]\n",
      " [-0.62210432  5.51591972 -0.39977591 12.13958265  6.4871446 ]]\n",
      "\n",
      "--- Variance ---\n",
      "114.70494912140819\n",
      "[ 2.048654    8.03910539 17.88568982 32.31447983 54.41702008]\n"
     ]
    }
   ],
   "source": [
    "# Q1. PCA\n",
    "\n",
    "# Imports\n",
    "from sklearn.decomposition import PCA\n",
    "\n",
    "# Load csv data\n",
    "with open(\"PADL-Q1.csv\", \"r\") as f:\n",
    "    reader = csv.reader(f)\n",
    "    data_headers = next(reader)\n",
    "    data = np.array(list(reader)).astype(float)\n",
    "\n",
    "# Print out data information\n",
    "print(\"--- Data ---\")\n",
    "print(data_headers)\n",
    "print(data[:5])\n",
    "\n",
    "print(\"\\n--- Variance ---\")\n",
    "data_var = np.var(data, axis=0)\n",
    "print(sum(data_var))\n",
    "print(data_var)\n"
   ]
  },
  {
   "cell_type": "markdown",
   "metadata": {},
   "source": [
    "## a. Apply PCA with n=5"
   ]
  },
  {
   "cell_type": "code",
   "execution_count": 3,
   "metadata": {},
   "outputs": [
    {
     "name": "stdout",
     "output_type": "stream",
     "text": [
      "--- data_pca5 Variance ---\n",
      "114.70494912140809\n",
      "[61.7643465  34.48928083 11.77245573  5.28311027  1.39575579]\n",
      "[0.53846279 0.30067823 0.1026325  0.04605826 0.01216823]\n",
      "\n",
      "--- Variance Proportions ---\n",
      "First 1 dims variance proportion: 0.5384627862600507\n",
      "First 2 dims variance proportion: 0.8391410141574704\n",
      "First 3 dims variance proportion: 0.9417735144837427\n",
      "First 4 dims variance proportion: 0.9878317735978975\n",
      "First 5 dims variance proportion: 1.0\n"
     ]
    },
    {
     "data": {
      "image/png": "[encoded data removed]",
      "text/plain": [
       "<Figure size 300x200 with 1 Axes>"
      ]
     },
     "metadata": {},
     "output_type": "display_data"
    }
   ],
   "source": [
    "# Apply PCA with 5 components\n",
    "pca5 = PCA(n_components=5)\n",
    "data_pca5 = pca5.fit_transform(data)\n",
    "\n",
    "# Calculate variance of PCA components\n",
    "print(\"--- data_pca5 Variance ---\")\n",
    "data_pca5_var = np.var(data_pca5, axis=0)\n",
    "data_pca5_var_sum = sum(data_pca5_var)\n",
    "print(data_pca5_var_sum)\n",
    "print(data_pca5_var)\n",
    "print(data_pca5_var / data_pca5_var_sum)\n",
    "\n",
    "# Calculate proportion of variances to sum of variances\n",
    "print(\"\\n--- Variance Proportions ---\")\n",
    "for i in range(1, 6):\n",
    "    print(f\"First {i} dims variance proportion: {sum(data_pca5_var[:i]) / data_pca5_var_sum}\")\n",
    "\n",
    "# Plot the variance proportions\n",
    "plt.figure(figsize=(3, 2))\n",
    "plt.plot(range(1, 6), data_pca5_var / data_pca5_var_sum)\n",
    "plt.xlabel(\"Component\")\n",
    "plt.xticks(range(1, 6))\n",
    "plt.show()\n"
   ]
  },
  {
   "cell_type": "markdown",
   "metadata": {},
   "source": [
    "### Reasoning\n",
    "\n",
    "Summing the proportion of variance held by the first N dimensions:  \n",
    "\n",
    "- First 2 PCA dimensions hold 83.91% of the variance.  \n",
    "- First 3 PCA dimensions hold 94.18% of the variance.  \n",
    "- First 4 PCA dimensions hold 98.78% of the variance.  \n",
    "\n",
    "This shows dimensions > 3 hold a relatively small percentage of the datasets information.  \n",
    "Plotting the proportions also shows an inflection point at 3 components.  \n",
    "\n",
    "Therefore, I believe $D_{min}=3$.\n"
   ]
  },
  {
   "cell_type": "markdown",
   "metadata": {},
   "source": [
    "## b. Repeat PCA with n=3"
   ]
  },
  {
   "cell_type": "code",
   "execution_count": 4,
   "metadata": {},
   "outputs": [
    {
     "name": "stdout",
     "output_type": "stream",
     "text": [
      "--- data_pca3 Variance ---\n",
      "108.02608306274739\n",
      "[61.7643465  34.48928083 11.77245573]\n",
      "[0.57175401 0.31926809 0.1089779 ]\n",
      "\n",
      "--- Variance Proportions ---\n",
      "First 1 dim variances: 0.5717540130178995\n",
      "First 2 dim variances: 0.8910220995304451\n",
      "First 3 dim variances: 1.0\n",
      "\n",
      "--- PCA Components ---\n",
      "[[-0.09281879  0.02527186 -0.34876981  0.14508263 -0.92089992]\n",
      " [ 0.00562362 -0.29870463 -0.11422131 -0.94062257 -0.11369515]\n",
      " [ 0.11266752 -0.13315622  0.91420302 -0.02393429 -0.36501429]]\n",
      "\n",
      "--- PCA Latex Equations ---\n",
      "$\\hat{X}_1 = -0.093(x_{0}-0.856) + 0.025(x_{1}-2.238) - 0.349(x_{2}-3.100) + 0.145(x_{3}-3.957) - 0.921(x_{4}-4.884)$\n",
      "$\\hat{X}_2 =  0.006(x_{0}-0.856) - 0.299(x_{1}-2.238) - 0.114(x_{2}-3.100) - 0.941(x_{3}-3.957) - 0.114(x_{4}-4.884)$\n",
      "$\\hat{X}_3 =  0.113(x_{0}-0.856) - 0.133(x_{1}-2.238) + 0.914(x_{2}-3.100) - 0.024(x_{3}-3.957) - 0.365(x_{4}-4.884)$\n"
     ]
    }
   ],
   "source": [
    "# Apply PCA with 3 components\n",
    "pca3 = PCA(n_components=3)\n",
    "data_pca3 = pca3.fit_transform(data)\n",
    "\n",
    "# Calculate variance of PCA components\n",
    "print(\"--- data_pca3 Variance ---\")\n",
    "data_pca3_var = np.var(data_pca3, axis=0)\n",
    "data_pca3_var_sum = sum(data_pca3_var)\n",
    "print(data_pca3_var_sum)\n",
    "print(data_pca3_var)\n",
    "print(data_pca3_var / data_pca3_var_sum)\n",
    "\n",
    "# Calculate proportion of variances to sum of variances\n",
    "print(\"\\n--- Variance Proportions ---\")\n",
    "for i in range(1, 4):\n",
    "    print(f\"First {i} dim variances: {sum(data_pca3_var[:i]) / data_pca3_var_sum}\")\n",
    "\n",
    "print(\"\\n--- PCA Components ---\")\n",
    "print(pca3.components_)\n",
    "\n",
    "# Dirty code to generate latex equations for below\n",
    "print(\"\\n--- PCA Latex Equations ---\")\n",
    "data_mean = np.mean(data, axis=0)\n",
    "for i in range(3):\n",
    "    output = f\"\\hat{{X}}_{i + 1} = \"\n",
    "    for j in range(5):\n",
    "        if pca3.components_[i][j] > 0:\n",
    "            if j > 0: output += \" + \"\n",
    "            else: output += \" \"\n",
    "        elif pca3.components_[i][j] < 0:\n",
    "            if j > 0: output += \" - \"\n",
    "            else: output += \"-\"\n",
    "        output += f\"{abs(pca3.components_[i][j]):.3f}(x_{{{j}}}-{data_mean[j]:.3f})\"\n",
    "    print(f\"${output}$\")\n"
   ]
  },
  {
   "cell_type": "markdown",
   "metadata": {},
   "source": [
    "### Equations\n",
    "\n",
    "First 3 components in decreasing order of variance.  \n",
    "SKLearn calculates the PCA component matrices based on a de-meaned X.  \n",
    "\n",
    "**Component 1**  \n",
    "Var=61.764  \n",
    "$\\hat{X}_1 = -0.093(x_{0}-0.856) + 0.025(x_{1}-2.238) - 0.349(x_{2}-3.100) + 0.145(x_{3}-3.957) - 0.921(x_{4}-4.884)$  \n",
    "\n",
    "**Component 2**  \n",
    "Var=34.489  \n",
    "$\\hat{X}_2 =  0.006(x_{0}-0.856) - 0.299(x_{1}-2.238) - 0.114(x_{2}-3.100) - 0.941(x_{3}-3.957) - 0.114(x_{4}-4.884)$  \n",
    "\n",
    "**Component 3**  \n",
    "Var=11.772  \n",
    "$\\hat{X}_3 =  0.113(x_{0}-0.856) - 0.133(x_{1}-2.238) + 0.914(x_{2}-3.100) - 0.024(x_{3}-3.957) - 0.365(x_{4}-4.884)$  \n"
   ]
  },
  {
   "cell_type": "markdown",
   "metadata": {},
   "source": [
    "# Q2. Regression"
   ]
  },
  {
   "cell_type": "code",
   "execution_count": 5,
   "metadata": {},
   "outputs": [],
   "source": [
    "# Q2. Regression\n",
    "\n",
    "# Imports\n",
    "from sklearn.linear_model import LinearRegression, Ridge\n",
    "from sklearn.preprocessing import PolynomialFeatures\n",
    "from sklearn.model_selection import KFold\n",
    "from sklearn.metrics import r2_score\n",
    "\n",
    "# Suppress ill-conditioned warning\n",
    "import warnings\n",
    "warnings.filterwarnings(\"ignore\")\n",
    "\n",
    "# Load csv data\n",
    "with open(\"PADL-Q2-train.csv\", \"r\") as f:\n",
    "    reader = csv.reader(f)\n",
    "    data = np.array(list(reader)[1:]).astype(float)\n",
    "    all_X = data[:, :-1]\n",
    "    all_y = data[:, -1]\n"
   ]
  },
  {
   "cell_type": "code",
   "execution_count": 6,
   "metadata": {},
   "outputs": [
    {
     "data": {
      "image/png": "[encoded data removed]",
      "text/plain": [
       "<Figure size 300x300 with 4 Axes>"
      ]
     },
     "metadata": {},
     "output_type": "display_data"
    }
   ],
   "source": [
    "# Plot each variable against y in 2x2 grid\n",
    "plt.figure(figsize=(3, 3))\n",
    "for i in range(4):\n",
    "    plt.subplot(2, 2, i + 1)\n",
    "    plt.scatter(all_X[:, i], all_y, s=1.5)\n",
    "    plt.xlabel(f\"x{i + 1}\")\n",
    "    plt.ylabel(\"y\")\n",
    "    plt.xticks([])\n",
    "    plt.yticks([])\n",
    "plt.tight_layout()\n"
   ]
  },
  {
   "cell_type": "code",
   "execution_count": 7,
   "metadata": {},
   "outputs": [],
   "source": [
    "# Represents all possible different regression setups\n",
    "class Model:\n",
    "    def __init__(self, poly_degree, to_normalize, model):\n",
    "        self.poly_degree = poly_degree\n",
    "        self.to_normalize = to_normalize\n",
    "        self.model = model\n",
    "\n",
    "        if poly_degree > 1:\n",
    "            self.poly = PolynomialFeatures(degree=poly_degree)\n",
    "        \n",
    "        self.name = \"Model(\"\n",
    "        self.name += f\"degree={self.poly_degree}\"\n",
    "        self.name += f\", normalize={self.to_normalize}\"\n",
    "        self.name += f\", model={self.model.__class__.__name__}\"\n",
    "        if self.model.__class__.__name__ == \"Ridge\":\n",
    "            self.name += f\", alpha={self.model.alpha}\"\n",
    "        self.name += \")\"\n",
    "    \n",
    "    def fit(self, X, y):\n",
    "        # Apply polynomial features\n",
    "        if self.poly_degree > 1:\n",
    "            X = self.poly.fit_transform(X)\n",
    "    \n",
    "        # Normalize data to have mean 0 and std 1\n",
    "        if self.to_normalize:\n",
    "            mean = np.mean(X, axis=0)\n",
    "            std = np.std(X, axis=0)\n",
    "            std[std == 0] = 1\n",
    "            X = (X - mean) / std\n",
    "        \n",
    "        self.model.fit(X, y)\n",
    "    \n",
    "    def predict(self, X):\n",
    "        # Apply polynomial features\n",
    "        if self.poly_degree > 1:\n",
    "            X = self.poly.transform(X)\n",
    "        \n",
    "        # Normalize data to have mean 0 and std 1\n",
    "        if self.to_normalize:\n",
    "            mean = np.mean(X, axis=0)\n",
    "            std = np.std(X, axis=0)\n",
    "            std[std == 0] = 1\n",
    "            X = (X - mean) / std\n",
    "\n",
    "        return self.model.predict(X)\n",
    "\n",
    "# Represents multiple models combined together\n",
    "class PiecewiseModel:\n",
    "    def __init__(self, boundary_masker, models):\n",
    "        self.boundary_masker = boundary_masker\n",
    "        self.models = models\n",
    "        self.name = \"PiecewiseModel([\"\n",
    "        self.name += \",\".join([model.name for model in self.models])\n",
    "        self.name += \"])\"\n",
    "\n",
    "    def fit(self, X, y):\n",
    "        # Fit each model with the corresponding masked data\n",
    "        for i, model in enumerate(self.models):\n",
    "            mask = self.boundary_masker(X, i)\n",
    "            model.fit(X[mask], y[mask])\n",
    "\n",
    "    def predict(self, X):\n",
    "        # Predict using each model with their corresponding masked data\n",
    "        y = np.zeros(X.shape[0])\n",
    "        for i, model in enumerate(self.models):\n",
    "            mask = self.boundary_masker(X, i)\n",
    "            y[mask] = model.predict(X[mask])\n",
    "        return y\n"
   ]
  },
  {
   "cell_type": "code",
   "execution_count": 8,
   "metadata": {},
   "outputs": [
    {
     "name": "stdout",
     "output_type": "stream",
     "text": [
      "[2.77555756e-17 1.00000000e-01 2.00000000e-01 6.00000000e-01\n",
      " 1.00000000e+00]\n"
     ]
    },
    {
     "data": {
      "image/png": "[encoded data removed]",
      "text/plain": [
       "<Figure size 300x300 with 1 Axes>"
      ]
     },
     "metadata": {},
     "output_type": "display_data"
    }
   ],
   "source": [
    "# Sanity check piecewise works\n",
    "def boundary_masker(X, i):\n",
    "    if i == 0: return X[:, 0] < 2\n",
    "    else: return X[:, 0] >= 2\n",
    "piecewise_x = np.array([[0], [1], [2], [3], [4]])\n",
    "piecewise_y = np.array([0, 0.1, 0.2, 0.6, 1])\n",
    "piecewise = PiecewiseModel(boundary_masker, [Model(1, False, LinearRegression()), Model(1, False, LinearRegression())])\n",
    "piecewise.fit(piecewise_x, piecewise_y)\n",
    "print(piecewise.predict(piecewise_x.reshape(-1, 1)))\n",
    "plt.figure(figsize=(3, 3))\n",
    "plt.scatter(piecewise_x, piecewise_y)\n",
    "plt.plot(piecewise_x, piecewise.predict(piecewise_x))\n",
    "plt.show()\n"
   ]
  },
  {
   "cell_type": "code",
   "execution_count": 9,
   "metadata": {},
   "outputs": [
    {
     "data": {
      "image/png": "[encoded data removed]",
      "text/plain": [
       "<Figure size 600x300 with 1 Axes>"
      ]
     },
     "metadata": {},
     "output_type": "display_data"
    },
    {
     "name": "stdout",
     "output_type": "stream",
     "text": [
      "--- Results ---\n",
      "Best model: Model(degree=4, normalize=True, model=Ridge, alpha=0.1)\n",
      "Best model, mean R2 KFold=5: 0.33428997746725964\n",
      "Best model, R2 over all data: 0.6380187792688217\n"
     ]
    }
   ],
   "source": [
    "def boundary_masker(X, i):\n",
    "    # Piecewise based on col 3\n",
    "    if i == 0: return X[:, 3] < 0.05\n",
    "    else: return X[:, 3] >= 0.05\n",
    "\n",
    "# Setup all the models to evaluate\n",
    "models = []\n",
    "for poly_degree in range(1, 7):\n",
    "    for to_normalize in [False, True]:\n",
    "        for to_piecewise in [False, True]:\n",
    "\n",
    "            # Piecewise linear regression\n",
    "            if to_piecewise:\n",
    "                models.append(PiecewiseModel(boundary_masker, [\n",
    "                    Model(poly_degree, to_normalize, LinearRegression()),\n",
    "                    Model(poly_degree, to_normalize, LinearRegression())\n",
    "                ]))\n",
    "\n",
    "            # Single linear regression\n",
    "            else:\n",
    "                models.append(Model(poly_degree, to_normalize, LinearRegression()))\n",
    "\n",
    "            for alpha in [0.0, 0.1, 1.0, 10.0]:\n",
    "                # Piecewise ridge regression\n",
    "                if to_piecewise:\n",
    "                    models.append(PiecewiseModel(boundary_masker, [\n",
    "                        Model(poly_degree, to_normalize, Ridge(alpha=alpha)),\n",
    "                        Model(poly_degree, to_normalize, Ridge(alpha=alpha))\n",
    "                    ]))\n",
    "\n",
    "                # Single ridge regression\n",
    "                else:\n",
    "                    models.append(Model(poly_degree, to_normalize, Ridge(alpha=alpha)))\n",
    "\n",
    "# For each KFold, train each model, calculate mean R2\n",
    "np.random.seed(1)\n",
    "kf = KFold(n_splits=5, shuffle=True)\n",
    "\n",
    "models_r2_kfmean = []\n",
    "models_r2_all = []\n",
    "for model in models:\n",
    "    r2s = []\n",
    "    for train_idx, test_idx in kf.split(all_X):\n",
    "        model.fit(all_X[train_idx], all_y[train_idx])\n",
    "        pred_test_y = model.predict(all_X[test_idx])\n",
    "        r2s.append(r2_score(all_y[test_idx], pred_test_y))\n",
    "    models_r2_kfmean.append(np.mean(r2s))\n",
    "\n",
    "    model.fit(all_X, all_y)\n",
    "    pred_all_y = model.predict(all_X)\n",
    "    models_r2_all.append(r2_score(all_y, pred_all_y))\n",
    "\n",
    "# Plot mean R2 / all data R2 to see overall performance\n",
    "plt.figure(figsize=(6, 3))\n",
    "plt.bar(range(len(models_r2_kfmean)), models_r2_kfmean)\n",
    "plt.bar(range(len(models_r2_all)), models_r2_all, alpha=0.2, color=\"red\")\n",
    "plt.xticks([])\n",
    "plt.ylim(-1, 1)\n",
    "plt.show()\n",
    "\n",
    "print(\"--- Results ---\")\n",
    "best_idx = np.argmax(models_r2_kfmean)\n",
    "best_model = models[best_idx]\n",
    "best_r2_mean = models_r2_kfmean[best_idx]\n",
    "best_r2_all = models_r2_all[best_idx]\n",
    "print(f\"Best model: {best_model.name}\")\n",
    "print(f\"Best model, mean R2 KFold=5: {best_r2_mean}\")\n",
    "print(f\"Best model, R2 over all data: {best_r2_all}\")\n",
    "\n",
    "# Train best model against full data again\n",
    "best_model.fit(all_X, all_y)\n"
   ]
  },
  {
   "cell_type": "markdown",
   "metadata": {},
   "source": [
    "### Reasoning\n",
    "\n",
    "I produce a set of models varying the following:  \n",
    "\n",
    "- Data polynomial basis **(1 - 6)**\n",
    "- Data normalization **(yes / no)**\n",
    "- Whether to use piecewise regression **(yes / no)**  \n",
    "- Regression model **(linear / ridge)**\n",
    "  - For ridge regression, alpha value **(0.1, 1, 10)**  \n",
    "\n",
    "For piecewise regression I use 2 of the same model, split on some boundary.  \n",
    "From inspection of the data, column `w` is binary between 2 values.  \n",
    "Due to complexity constraints I only tested a piecewise regression with 1 boundary on `w` in these 2 classes.  \n",
    "\n",
    "For training, I need to consider overfitting due to only having 80 values, as I want a generalised model.  \n",
    "If my number of parameters > number of data points the regressor might \"remember\" the values.  \n",
    "To prevent this, I use  k-fold data splitting:  \n",
    "\n",
    "- Split data into $k$ groups\n",
    "- Leave 1 group out and fit model on the rest\n",
    "- Use the 1 group for prediction and R2 score\n",
    "\n",
    "I can then average the R2 score over the folds and use that as the main metric.  \n",
    "\n",
    "An issue here arises due to the result being different every time its ran if k-fold is set to shuffle.  \n",
    "Evidently the results are highly dependant on how the random groups are assigned.  \n",
    "\n",
    "Generally however it seems a **single (non-piecewise) ridge regression** works the best.  \n",
    "The degree of polynomial basis, whether to normalize, and the alpha, changes per run."
   ]
  },
  {
   "cell_type": "code",
   "execution_count": 10,
   "metadata": {},
   "outputs": [
    {
     "name": "stdout",
     "output_type": "stream",
     "text": [
      "Test R2: 0.6380187792688217\n"
     ]
    }
   ],
   "source": [
    "# Predict best model against PADL-Q2-unseen.csv\n",
    "with open(\"PADL-Q2-unseen.csv\", \"r\") as f:\n",
    "    reader = csv.reader(f)\n",
    "    data = np.array(list(reader)[1:]).astype(float)\n",
    "test_X = data[:, :-1]\n",
    "test_y = data[:, -1]\n",
    "pred_y = best_model.predict(test_X)\n",
    "r2 = r2_score(test_y, pred_y)\n",
    "print(f\"Test R2: {r2}\")\n"
   ]
  },
  {
   "cell_type": "markdown",
   "metadata": {},
   "source": [
    "# Q3. Embeddings"
   ]
  },
  {
   "cell_type": "code",
   "execution_count": 124,
   "metadata": {},
   "outputs": [],
   "source": [
    "# Q3. Embeddings\n",
    "\n",
    "# Imports\n",
    "import re\n",
    "from gensim.models import Word2Vec\n",
    "\n",
    "# Read pg48320.txt\n",
    "with open(\"pg48320.txt\", \"r\", encoding=\"utf-8\") as f:\n",
    "    text = f.read()\n"
   ]
  },
  {
   "cell_type": "markdown",
   "metadata": {},
   "source": [
    "## a. Extract Words"
   ]
  },
  {
   "cell_type": "markdown",
   "metadata": {},
   "source": [
    "**1. Clean the text.**  \n",
    "\n",
    "- Remove all punctuation, apart from hyphens and newlines.  \n",
    "- Convert the text to lowercase.  \n",
    "\n",
    "**2. Extract Sentences and words.**  \n",
    "\n",
    "- Sentences for training a Word2Vec model found by splitting on \"\\n\" then \" \".  \n",
    "- Words found by just joining all sentences together.\n",
    "\n",
    "**3. Extract Triplets.**\n",
    "\n",
    "- Simple loop over words, checking previous / next and adding to a list."
   ]
  },
  {
   "cell_type": "code",
   "execution_count": 125,
   "metadata": {},
   "outputs": [
    {
     "name": "stdout",
     "output_type": "stream",
     "text": [
      "Found 595374 characters, 139178 words, 4360 triplets.\n"
     ]
    }
   ],
   "source": [
    "# Preprocess text\n",
    "clean_text = re.sub(r\"[^a-zA-Z \\-]\", \" \", text).lower()\n",
    "\n",
    "# Split text into non-empty words\n",
    "words = clean_text.split(\" \")\n",
    "\n",
    "# Extract triplets where middle word is \"the\"\n",
    "triplets = set()\n",
    "for i in range(1, len(words) - 1):\n",
    "    if words[i] == \"the\":\n",
    "        triplets.add((words[i - 1], words[i], words[i + 1]))\n",
    "\n",
    "print(f\"Found {len(text)} characters, {len(words)} words, {len(triplets)} triplets.\")\n"
   ]
  },
  {
   "cell_type": "markdown",
   "metadata": {},
   "source": [
    "## b. Find Matching Triplets"
   ]
  },
  {
   "cell_type": "markdown",
   "metadata": {},
   "source": [
    "We just need to loop over the keywords, and perform the suitability check.  \n",
    "Check the relevant word has 3+ characters, and then check the suffix.  \n",
    "\n",
    "**Note:** This could be improved by checking the world is different from the keyword.  "
   ]
  },
  {
   "cell_type": "code",
   "execution_count": 126,
   "metadata": {},
   "outputs": [
    {
     "name": "stdout",
     "output_type": "stream",
     "text": [
      "Keyword gold has 21 matching triplets\n",
      "[('of', 'the', 'old'), ('as', 'the', 'old'), ('to', 'the', 'old'), ('said', 'the', 'old'), ('by', 'the', 'old'), ('from', 'the', 'old'), ('in', 'the', 'household'), ('with', 'the', 'gold'), ('', 'the', 'old'), ('into', 'the', 'manifold'), ('one', 'the', 'old'), ('screamed', 'the', 'old'), ('of', 'the', 'gold'), ('crossed', 'the', 'threshold'), ('and', 'the', 'two-hundred-year-old'), ('over', 'the', 'threshold'), ('in', 'the', 'cold'), ('in', 'the', 'old'), ('remember', 'the', 'old'), ('do', 'the', 'old'), ('rack', 'the', 'old')]\n",
      "\n",
      "Keyword diamond has 11 matching triplets\n",
      "[('observe', 'the', 'second'), ('of', 'the', 'second'), ('in', 'the', 'second'), ('upon', 'the', 'second'), ('', 'the', 'second'), ('snap', 'the', 'bond'), ('solder', 'the', 'second'), ('at', 'the', 'second'), ('if', 'the', 'second'), ('to', 'the', 'second'), ('armitage', 'the', 'second')]\n",
      "\n",
      "Keyword robbery has 32 matching triplets\n",
      "[('in', 'the', 'very'), ('discovering', 'the', 'robbery'), ('on', 'the', 'very'), ('has', 'the', 'very'), ('herself', 'the', 'very'), ('admire', 'the', 'scenery'), ('up', 'the', 'mystery'), ('be', 'the', 'very'), ('that', 'the', 'mystery'), ('but', 'the', 'mystery'), ('of', 'the', 'machinery'), ('that', 'the', 'very'), ('and', 'the', 'mystery'), ('', 'the', 'discovery'), ('solved', 'the', 'mystery'), ('of', 'the', 'robbery'), ('is', 'the', 'very'), ('planned', 'the', 'robbery'), ('to', 'the', 'very'), ('', 'the', 'mystery'), ('in', 'the', 'nursery'), ('into', 'the', 'very'), ('out', 'the', 'very'), ('solve', 'the', 'mystery'), ('was', 'the', 'very'), ('upon', 'the', 'very'), ('are', 'the', 'very'), ('from', 'the', 'very'), ('', 'the', 'very'), ('of', 'the', 'very'), ('add', 'the', 'very'), ('hearing', 'the', 'very')]\n",
      "\n",
      "Keyword bank has 8 matching triplets\n",
      "[('from', 'the', 'bank'), ('leaves', 'the', 'bank'), ('upon', 'the', 'mud-bank'), ('was', 'the', 'clank'), ('of', 'the', 'bank'), ('at', 'the', 'bank'), ('how', 'the', 'bank'), ('expect', 'the', 'bank')]\n",
      "\n",
      "Keyword police has 40 matching triplets\n",
      "[('of', 'the', 'grice'), ('took', 'the', 'advice'), ('that', 'the', 'police'), ('at', 'the', 'office'), ('of', 'the', 'price'), ('that', 'the', 'practice'), ('convince', 'the', 'police'), ('of', 'the', 'police'), ('for', 'the', 'police'), ('moment', 'the', 'police'), ('when', 'the', 'police'), ('to', 'the', 'office'), ('stop', 'the', 'service'), ('and', 'the', 'price'), ('said', 'the', 'police'), ('in', 'the', 'police'), ('or', 'the', 'police'), ('later', 'the', 'voice'), ('with', 'the', 'police'), ('of', 'the', 'office'), ('by', 'the', 'police'), ('', 'the', 'police'), ('informed', 'the', 'police'), ('remember', 'the', 'advice'), ('did', 'the', 'police'), ('all', 'the', 'police'), ('in', 'the', 'office'), ('into', 'the', 'office'), ('leaving', 'the', 'office'), ('', 'the', 'voice'), ('avoid', 'the', 'police'), ('from', 'the', 'office'), ('with', 'the', 'ice'), ('seen', 'the', 'police'), ('let', 'the', 'police'), ('of', 'the', 'water-police'), ('be', 'the', 'police'), ('call', 'the', 'police'), ('if', 'the', 'police'), ('to', 'the', 'police')]\n",
      "\n"
     ]
    }
   ],
   "source": [
    "# For each keyword\n",
    "keywords = [\"gold\", \"diamond\", \"robbery\", \"bank\", \"police\"]\n",
    "keyword_triplets = []\n",
    "for keyword in keywords:\n",
    "\n",
    "    # For each triplet\n",
    "    matching_triplets = []\n",
    "    for triplet in triplets:\n",
    "        word = triplet[2]\n",
    "        \n",
    "        # Check suffixes match atleast 3 characters\n",
    "        if len(word) >= 3 and keyword[-3:] == word[-3:]:\n",
    "            matching_triplets.append(triplet)\n",
    "    \n",
    "    # Found all matching triplets\n",
    "    keyword_triplets.append(matching_triplets)\n",
    "    print(f\"Keyword {keyword} has {len(matching_triplets)} matching triplets\")\n",
    "    print(matching_triplets)\n",
    "    print(\"\")\n"
   ]
  },
  {
   "cell_type": "markdown",
   "metadata": {},
   "source": [
    "## c. Find Semantically Good Triplets"
   ]
  },
  {
   "cell_type": "code",
   "execution_count": 128,
   "metadata": {},
   "outputs": [
    {
     "name": "stdout",
     "output_type": "stream",
     "text": [
      "Checking keyword 'gold' top 5 triplets\n",
      "[('from', 'the', 'old'), ('one', 'the', 'old'), ('by', 'the', 'old'), ('in', 'the', 'old'), ('as', 'the', 'old')]\n",
      "\n",
      "Checking keyword 'diamond' top 5 triplets\n",
      "[('if', 'the', 'second'), ('at', 'the', 'second'), ('in', 'the', 'second'), ('to', 'the', 'second'), ('of', 'the', 'second')]\n",
      "\n",
      "Checking keyword 'robbery' top 5 triplets\n",
      "[('is', 'the', 'very'), ('to', 'the', 'very'), ('was', 'the', 'very'), ('of', 'the', 'very'), ('that', 'the', 'very')]\n",
      "\n",
      "Checking keyword 'bank' top 5 triplets\n",
      "[('upon', 'the', 'mud-bank'), ('was', 'the', 'clank'), ('expect', 'the', 'bank'), ('leaves', 'the', 'bank'), ('from', 'the', 'bank')]\n",
      "\n",
      "Checking keyword 'police' top 5 triplets\n",
      "[('from', 'the', 'office'), ('in', 'the', 'office'), ('into', 'the', 'office'), ('at', 'the', 'office'), ('of', 'the', 'office')]\n",
      "\n"
     ]
    }
   ],
   "source": [
    "# Train word2vec over all words\n",
    "model = Word2Vec([ words ], vector_size=300, window=5, min_count=1, workers=4)\n",
    "\n",
    "# For each keyword and associated triplets\n",
    "keyword_triplets_best = []\n",
    "for i in range(len(keyword_triplets)):\n",
    "    print(f\"Checking keyword '{keywords[i]}' top 5 triplets\")\n",
    "\n",
    "    # Sort triplets by similarity of word 1 and word 3\n",
    "    scored_triplets = [ (t, model.wv.similarity(t[0], t[2])) for t in keyword_triplets[i] ]\n",
    "    scored_triplets = sorted(scored_triplets, key=lambda x: x[1], reverse=True)\n",
    "    scored_triplets = [ t[0] for t in scored_triplets[:5] ]\n",
    "\n",
    "    # Found top 5 triplets\n",
    "    keyword_triplets_best.append(scored_triplets)\n",
    "    print(scored_triplets)\n",
    "    print(\"\")\n"
   ]
  },
  {
   "cell_type": "markdown",
   "metadata": {},
   "source": [
    "# Q4. Basic MLP"
   ]
  },
  {
   "cell_type": "markdown",
   "metadata": {},
   "source": [
    "# Q5. Telling the Time"
   ]
  },
  {
   "cell_type": "markdown",
   "metadata": {},
   "source": [
    "# Q6. Generative"
   ]
  },
  {
   "cell_type": "markdown",
   "metadata": {},
   "source": []
  }
 ],
 "metadata": {
  "kernelspec": {
   "display_name": "Python 3",
   "language": "python",
   "name": "python3"
  },
  "language_info": {
   "codemirror_mode": {
    "name": "ipython",
    "version": 3
   },
   "file_extension": ".py",
   "mimetype": "text/x-python",
   "name": "python",
   "nbconvert_exporter": "python",
   "pygments_lexer": "ipython3",
   "version": "3.11.1"
  }
 },
 "nbformat": 4,
 "nbformat_minor": 2
}
